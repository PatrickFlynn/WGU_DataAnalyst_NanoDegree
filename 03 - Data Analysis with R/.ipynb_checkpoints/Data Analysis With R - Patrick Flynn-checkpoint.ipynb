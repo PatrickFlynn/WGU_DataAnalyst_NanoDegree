{
 "cells": [
  {
   "cell_type": "markdown",
   "metadata": {},
   "source": [
    "Baseball Dataset by Patrick Flynn\n",
    "========================================================\n",
    "\n",
    "> **Tip**: You will see quoted sections like this throughout the template to\n",
    "help you construct your report. Make sure that you remove these notes before\n",
    "you finish and submit your project!\n",
    "\n",
    "> **Tip**: One of the requirements of this project is that your code follows\n",
    "good formatting techniques, including limiting your lines to 80 characters or\n",
    "less. If you're using RStudio, go into Preferences \\> Code \\> Display to set up\n",
    "a margin line to help you keep track of this guideline!\n",
    "\n",
    "```{r echo=FALSE, message=FALSE, warning=FALSE, packages}```"
   ]
  },
  {
   "cell_type": "markdown",
   "metadata": {},
   "source": [
    "# Load all of the packages that you end up using in your analysis in this code chunk.\n",
    "\n",
    "# Notice that the parameter \"echo\" was set to FALSE for this code chunk. This prevents the code from displaying in the knitted HTML output. You should set echo=FALSE for all code chunks in your file, unless it makes sense for your report to show the code that generated a particular plot. The other parameters for \"message\" and \"warning\" should also be set to FALSE for other code chunks once you have verified that each plot comes out as you want it to. This will clean up the flow of your report.\n",
    "\n",
    "library(ggplot2)\n",
    "\n",
    "\n",
    "```{r echo=FALSE, Load_the_Data}```"
   ]
  },
  {
   "cell_type": "markdown",
   "metadata": {},
   "source": [
    "# Load the Data\n",
    "\n",
    "> **Tip**: Before you create any plots, it is a good idea to provide a short\n",
    "introduction into the dataset that you are planning to explore. Replace this\n",
    "quoted text with that general information!"
   ]
  },
  {
   "cell_type": "code",
   "execution_count": 4,
   "metadata": {},
   "outputs": [],
   "source": [
    "baseball <- read.csv('baseball_data.csv')"
   ]
  },
  {
   "cell_type": "code",
   "execution_count": 21,
   "metadata": {},
   "outputs": [
    {
     "data": {
      "text/html": [
       "<table>\n",
       "<thead><tr><th></th><th scope=col>name</th><th scope=col>handedness</th><th scope=col>height</th><th scope=col>weight</th><th scope=col>avg</th><th scope=col>HR</th></tr></thead>\n",
       "<tbody>\n",
       "\t<tr><th scope=row>17</th><td>Darrell Evans   </td><td>L               </td><td>74              </td><td>200             </td><td>0.248           </td><td>414             </td></tr>\n",
       "\t<tr><th scope=row>46</th><td>Dave Kingman    </td><td>R               </td><td>78              </td><td>210             </td><td>0.236           </td><td>442             </td></tr>\n",
       "\t<tr><th scope=row>204</th><td>Tony Perez      </td><td>R               </td><td>74              </td><td>175             </td><td>0.279           </td><td>379             </td></tr>\n",
       "\t<tr><th scope=row>296</th><td>Graig Nettles   </td><td>L               </td><td>72              </td><td>180             </td><td>0.248           </td><td>390             </td></tr>\n",
       "\t<tr><th scope=row>423</th><td>Carl Yastrzemski</td><td>L               </td><td>71              </td><td>175             </td><td>0.285           </td><td>452             </td></tr>\n",
       "\t<tr><th scope=row>657</th><td>Reggie Jackson  </td><td>L               </td><td>72              </td><td>195             </td><td>0.262           </td><td>563             </td></tr>\n",
       "\t<tr><th scope=row>762</th><td>Johnny Bench    </td><td>R               </td><td>73              </td><td>197             </td><td>0.267           </td><td>389             </td></tr>\n",
       "\t<tr><th scope=row>814</th><td>Lee May         </td><td>R               </td><td>75              </td><td>195             </td><td>0.267           </td><td>354             </td></tr>\n",
       "\t<tr><th scope=row>969</th><td>Dick Allen      </td><td>R               </td><td>71              </td><td>187             </td><td>0.292           </td><td>351             </td></tr>\n",
       "\t<tr><th scope=row>973</th><td>Willie Stargell </td><td>L               </td><td>74              </td><td>188             </td><td>0.282           </td><td>475             </td></tr>\n",
       "\t<tr><th scope=row>996</th><td>Mike Schmidt    </td><td>R               </td><td>74              </td><td>195             </td><td>0.267           </td><td>548             </td></tr>\n",
       "\t<tr><th scope=row>1053</th><td>Jim Rice        </td><td>R               </td><td>74              </td><td>200             </td><td>0.298           </td><td>382             </td></tr>\n",
       "</tbody>\n",
       "</table>\n"
      ],
      "text/latex": [
       "\\begin{tabular}{r|llllll}\n",
       "  & name & handedness & height & weight & avg & HR\\\\\n",
       "\\hline\n",
       "\t17 & Darrell Evans    & L                & 74               & 200              & 0.248            & 414             \\\\\n",
       "\t46 & Dave Kingman     & R                & 78               & 210              & 0.236            & 442             \\\\\n",
       "\t204 & Tony Perez       & R                & 74               & 175              & 0.279            & 379             \\\\\n",
       "\t296 & Graig Nettles    & L                & 72               & 180              & 0.248            & 390             \\\\\n",
       "\t423 & Carl Yastrzemski & L                & 71               & 175              & 0.285            & 452             \\\\\n",
       "\t657 & Reggie Jackson   & L                & 72               & 195              & 0.262            & 563             \\\\\n",
       "\t762 & Johnny Bench     & R                & 73               & 197              & 0.267            & 389             \\\\\n",
       "\t814 & Lee May          & R                & 75               & 195              & 0.267            & 354             \\\\\n",
       "\t969 & Dick Allen       & R                & 71               & 187              & 0.292            & 351             \\\\\n",
       "\t973 & Willie Stargell  & L                & 74               & 188              & 0.282            & 475             \\\\\n",
       "\t996 & Mike Schmidt     & R                & 74               & 195              & 0.267            & 548             \\\\\n",
       "\t1053 & Jim Rice         & R                & 74               & 200              & 0.298            & 382             \\\\\n",
       "\\end{tabular}\n"
      ],
      "text/markdown": [
       "\n",
       "| <!--/--> | name | handedness | height | weight | avg | HR | \n",
       "|---|---|---|---|---|---|---|---|---|---|---|---|\n",
       "| 17 | Darrell Evans    | L                | 74               | 200              | 0.248            | 414              | \n",
       "| 46 | Dave Kingman     | R                | 78               | 210              | 0.236            | 442              | \n",
       "| 204 | Tony Perez       | R                | 74               | 175              | 0.279            | 379              | \n",
       "| 296 | Graig Nettles    | L                | 72               | 180              | 0.248            | 390              | \n",
       "| 423 | Carl Yastrzemski | L                | 71               | 175              | 0.285            | 452              | \n",
       "| 657 | Reggie Jackson   | L                | 72               | 195              | 0.262            | 563              | \n",
       "| 762 | Johnny Bench     | R                | 73               | 197              | 0.267            | 389              | \n",
       "| 814 | Lee May          | R                | 75               | 195              | 0.267            | 354              | \n",
       "| 969 | Dick Allen       | R                | 71               | 187              | 0.292            | 351              | \n",
       "| 973 | Willie Stargell  | L                | 74               | 188              | 0.282            | 475              | \n",
       "| 996 | Mike Schmidt     | R                | 74               | 195              | 0.267            | 548              | \n",
       "| 1053 | Jim Rice         | R                | 74               | 200              | 0.298            | 382              | \n",
       "\n",
       "\n"
      ],
      "text/plain": [
       "     name             handedness height weight avg   HR \n",
       "17   Darrell Evans    L          74     200    0.248 414\n",
       "46   Dave Kingman     R          78     210    0.236 442\n",
       "204  Tony Perez       R          74     175    0.279 379\n",
       "296  Graig Nettles    L          72     180    0.248 390\n",
       "423  Carl Yastrzemski L          71     175    0.285 452\n",
       "657  Reggie Jackson   L          72     195    0.262 563\n",
       "762  Johnny Bench     R          73     197    0.267 389\n",
       "814  Lee May          R          75     195    0.267 354\n",
       "969  Dick Allen       R          71     187    0.292 351\n",
       "973  Willie Stargell  L          74     188    0.282 475\n",
       "996  Mike Schmidt     R          74     195    0.267 548\n",
       "1053 Jim Rice         R          74     200    0.298 382"
      ]
     },
     "metadata": {},
     "output_type": "display_data"
    },
    {
     "data": {
      "text/html": [
       "<table>\n",
       "<thead><tr><th scope=col>name</th><th scope=col>handedness</th><th scope=col>height</th><th scope=col>weight</th><th scope=col>avg</th><th scope=col>HR</th></tr></thead>\n",
       "<tbody>\n",
       "\t<tr><td>Tom Brown     </td><td>R             </td><td>73            </td><td>170           </td><td>0.000         </td><td> 0            </td></tr>\n",
       "\t<tr><td>Denny Lemaster</td><td>R             </td><td>73            </td><td>182           </td><td>0.130         </td><td> 4            </td></tr>\n",
       "\t<tr><td>Joe Nolan     </td><td>L             </td><td>71            </td><td>175           </td><td>0.263         </td><td>27            </td></tr>\n",
       "</tbody>\n",
       "</table>\n"
      ],
      "text/latex": [
       "\\begin{tabular}{r|llllll}\n",
       " name & handedness & height & weight & avg & HR\\\\\n",
       "\\hline\n",
       "\t Tom Brown      & R              & 73             & 170            & 0.000          &  0            \\\\\n",
       "\t Denny Lemaster & R              & 73             & 182            & 0.130          &  4            \\\\\n",
       "\t Joe Nolan      & L              & 71             & 175            & 0.263          & 27            \\\\\n",
       "\\end{tabular}\n"
      ],
      "text/markdown": [
       "\n",
       "name | handedness | height | weight | avg | HR | \n",
       "|---|---|---|\n",
       "| Tom Brown      | R              | 73             | 170            | 0.000          |  0             | \n",
       "| Denny Lemaster | R              | 73             | 182            | 0.130          |  4             | \n",
       "| Joe Nolan      | L              | 71             | 175            | 0.263          | 27             | \n",
       "\n",
       "\n"
      ],
      "text/plain": [
       "  name           handedness height weight avg   HR\n",
       "1 Tom Brown      R          73     170    0.000  0\n",
       "2 Denny Lemaster R          73     182    0.130  4\n",
       "3 Joe Nolan      L          71     175    0.263 27"
      ]
     },
     "metadata": {},
     "output_type": "display_data"
    },
    {
     "data": {
      "text/html": [
       "<ol class=list-inline>\n",
       "\t<li>1157</li>\n",
       "\t<li>6</li>\n",
       "</ol>\n"
      ],
      "text/latex": [
       "\\begin{enumerate*}\n",
       "\\item 1157\n",
       "\\item 6\n",
       "\\end{enumerate*}\n"
      ],
      "text/markdown": [
       "1. 1157\n",
       "2. 6\n",
       "\n",
       "\n"
      ],
      "text/plain": [
       "[1] 1157    6"
      ]
     },
     "metadata": {},
     "output_type": "display_data"
    }
   ],
   "source": [
    "#baseball\n",
    "#subset(baseball, HR > 5)\n",
    "baseball[baseball$HR > 350, ]\n",
    "head(baseball, 3)\n",
    "dim(baseball)"
   ]
  },
  {
   "cell_type": "code",
   "execution_count": 23,
   "metadata": {},
   "outputs": [
    {
     "data": {
      "text/plain": [
       "\n",
       "  B   L   R \n",
       "104 316 737 "
      ]
     },
     "metadata": {},
     "output_type": "display_data"
    },
    {
     "data": {
      "text/plain": [
       "              name      handedness     height          weight     \n",
       " Bobby Mitchell :   2   B:104      Min.   :65.00   Min.   :140.0  \n",
       " Dave Roberts   :   2   L:316      1st Qu.:71.00   1st Qu.:175.0  \n",
       " Dave Stapleton :   2   R:737      Median :73.00   Median :185.0  \n",
       " Jim Wright     :   2              Mean   :72.76   Mean   :184.5  \n",
       " Mel Stottlemyre:   2              3rd Qu.:74.00   3rd Qu.:195.0  \n",
       " Mike Brown     :   2              Max.   :80.00   Max.   :245.0  \n",
       " (Other)        :1145                                             \n",
       "      avg               HR        \n",
       " Min.   :0.0000   Min.   :  0.00  \n",
       " 1st Qu.:0.1380   1st Qu.:  1.00  \n",
       " Median :0.2380   Median : 15.00  \n",
       " Mean   :0.1868   Mean   : 45.36  \n",
       " 3rd Qu.:0.2580   3rd Qu.: 55.00  \n",
       " Max.   :0.3280   Max.   :563.00  \n",
       "                                  "
      ]
     },
     "metadata": {},
     "output_type": "display_data"
    }
   ],
   "source": [
    "table(baseball$handedness)\n",
    "summary(baseball)"
   ]
  },
  {
   "cell_type": "markdown",
   "metadata": {},
   "source": [
    "# Univariate Plots Section\n",
    "\n",
    "> **Tip**: In this section, you should perform some preliminary exploration of\n",
    "your dataset. Run some summaries of the data and create univariate plots to\n",
    "understand the structure of the individual variables in your dataset. Don't\n",
    "forget to add a comment after each plot or closely-related group of plots!\n",
    "There should be multiple code chunks and text sections; the first one below is\n",
    "just to help you get started.\n",
    "\n",
    "```{r echo=FALSE, Univariate_Plots}```\n",
    "\n",
    "> **Tip**: Make sure that you leave a blank line between the start / end of\n",
    "each code block and the end / start of your Markdown text so that it is\n",
    "formatted nicely in the knitted text. Note as well that text on consecutive\n",
    "lines is treated as a single space. Make sure you have a blank line between\n",
    "your paragraphs so that they too are formatted for easy readability.\n",
    "\n",
    "# Univariate Analysis\n",
    "\n",
    "> **Tip**: Now that you've completed your univariate explorations, it's time to\n",
    "reflect on and summarize what you've found. Use the questions below to help you\n",
    "gather your observations and add your own if you have other thoughts!\n",
    "\n",
    "### What is the structure of your dataset?\n",
    "\n",
    "### What is/are the main feature(s) of interest in your dataset?\n",
    "\n",
    "### What other features in the dataset do you think will help support your \\\n",
    "investigation into your feature(s) of interest?\n",
    "\n",
    "### Did you create any new variables from existing variables in the dataset?\n",
    "\n",
    "### Of the features you investigated, were there any unusual distributions? \\\n",
    "Did you perform any operations on the data to tidy, adjust, or change the form \\\n",
    "of the data? If so, why did you do this?\n",
    "\n",
    "\n",
    "# Bivariate Plots Section\n",
    "\n",
    "> **Tip**: Based on what you saw in the univariate plots, what relationships\n",
    "between variables might be interesting to look at in this section? Don't limit\n",
    "yourself to relationships between a main output feature and one of the\n",
    "supporting variables. Try to look at relationships between supporting variables\n",
    "as well.\n",
    "\n",
    "```{r echo=FALSE, Bivariate_Plots}```\n",
    "\n",
    "# Bivariate Analysis\n",
    "\n",
    "> **Tip**: As before, summarize what you found in your bivariate explorations\n",
    "here. Use the questions below to guide your discussion.\n",
    "\n",
    "### Talk about some of the relationships you observed in this part of the \\\n",
    "investigation. How did the feature(s) of interest vary with other features in \\\n",
    "the dataset?\n",
    "\n",
    "### Did you observe any interesting relationships between the other features \\\n",
    "(not the main feature(s) of interest)?\n",
    "\n",
    "### What was the strongest relationship you found?\n",
    "\n",
    "\n",
    "# Multivariate Plots Section\n",
    "\n",
    "> **Tip**: Now it's time to put everything together. Based on what you found in\n",
    "the bivariate plots section, create a few multivariate plots to investigate\n",
    "more complex interactions between variables. Make sure that the plots that you\n",
    "create here are justified by the plots you explored in the previous section. If\n",
    "you plan on creating any mathematical models, this is the section where you\n",
    "will do that.\n",
    "\n",
    "```{r echo=FALSE, Multivariate_Plots}```\n",
    "\n",
    "# Multivariate Analysis\n",
    "\n",
    "### Talk about some of the relationships you observed in this part of the \\\n",
    "investigation. Were there features that strengthened each other in terms of \\\n",
    "looking at your feature(s) of interest?\n",
    "\n",
    "### Were there any interesting or surprising interactions between features?\n",
    "\n",
    "### OPTIONAL: Did you create any models with your dataset? Discuss the \\\n",
    "strengths and limitations of your model.\n",
    "\n",
    "------\n",
    "\n",
    "# Final Plots and Summary\n",
    "\n",
    "> **Tip**: You've done a lot of exploration and have built up an understanding\n",
    "of the structure of and relationships between the variables in your dataset.\n",
    "Here, you will select three plots from all of your previous exploration to\n",
    "present here as a summary of some of your most interesting findings. Make sure\n",
    "that you have refined your selected plots for good titling, axis labels (with\n",
    "units), and good aesthetic choices (e.g. color, transparency). After each plot,\n",
    "make sure you justify why you chose each plot by describing what it shows.\n",
    "\n",
    "### Plot One\n",
    "```{r echo=FALSE, Plot_One}```\n",
    "\n",
    "### Description One\n",
    "\n",
    "\n",
    "### Plot Two\n",
    "```{r echo=FALSE, Plot_Two}```\n",
    "\n",
    "### Description Two\n",
    "\n",
    "\n",
    "### Plot Three\n",
    "```{r echo=FALSE, Plot_Three}```\n",
    "\n",
    "### Description Three\n",
    "\n",
    "------\n",
    "\n",
    "# Reflection\n",
    "\n",
    "> **Tip**: Here's the final step! Reflect on the exploration you performed and\n",
    "the insights you found. What were some of the struggles that you went through?\n",
    "What went well? What was surprising? Make sure you include an insight into\n",
    "future work that could be done with the dataset.\n",
    "\n",
    "> **Tip**: Don't forget to remove this, and the other **Tip** sections before\n",
    "saving your final work and knitting the final report!"
   ]
  }
 ],
 "metadata": {
  "kernelspec": {
   "display_name": "R",
   "language": "R",
   "name": "ir"
  },
  "language_info": {
   "codemirror_mode": "r",
   "file_extension": ".r",
   "mimetype": "text/x-r-source",
   "name": "R",
   "pygments_lexer": "r",
   "version": "3.5.1"
  }
 },
 "nbformat": 4,
 "nbformat_minor": 2
}
