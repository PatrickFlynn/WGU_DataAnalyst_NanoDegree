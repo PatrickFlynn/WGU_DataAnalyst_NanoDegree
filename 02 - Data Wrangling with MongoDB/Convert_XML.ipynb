{
 "cells": [
  {
   "cell_type": "markdown",
   "metadata": {},
   "source": [
    "## Required Libraries/Packages"
   ]
  },
  {
   "cell_type": "code",
   "execution_count": 1,
   "metadata": {},
   "outputs": [],
   "source": [
    "import xml.etree.ElementTree as ET\n",
    "#import xml.etree.cElementTree as ET\n",
    "from bs4 import BeautifulSoup\n",
    "import pandas as pd\n",
    "import re\n",
    "import os"
   ]
  },
  {
   "cell_type": "code",
   "execution_count": 2,
   "metadata": {},
   "outputs": [],
   "source": [
    "#Home\n",
    "#filepath = r'S:\\Code\\School\\WGU_DataAnalyst_NanoDegree\\02 - Data Wrangling with MongoDB'\n",
    "\n",
    "#Work\n",
    "filepath = r'C:\\Users\\p15144f\\Desktop\\WGU_DataAnalyst_NanoDegree\\02 - Data Wrangling with MongoDB'"
   ]
  },
  {
   "cell_type": "markdown",
   "metadata": {},
   "source": [
    "## XML Conversion to Pandas DataFrame Object"
   ]
  },
  {
   "cell_type": "code",
   "execution_count": 3,
   "metadata": {},
   "outputs": [],
   "source": [
    "def xml_retrieve_to_dataframe(search_tag):\n",
    "    with open(os.path.join(filepath, 'Cleaned_Henderson.osm'),encoding=\"utf8\") as osm_file:\n",
    "        nodes = []\n",
    "        node_tags = []\n",
    "        for event, elem in ET.iterparse(osm_file):\n",
    "            for items in elem:\n",
    "                    if items.tag == search_tag:\n",
    "                        nodes.append(items.attrib)\n",
    "                        if list(items):\n",
    "                            for x in list(items):\n",
    "                                temp_dict = {}\n",
    "                                temp_dict.update(x.attrib)\n",
    "                                temp_dict['type'] = x.tag\n",
    "                                temp_dict['id'] = items.attrib['id']\n",
    "                                node_tags.append(temp_dict)\n",
    "        df = pd.DataFrame(nodes)\n",
    "        tag_df = pd.DataFrame(node_tags)\n",
    "        return df, tag_df"
   ]
  },
  {
   "cell_type": "markdown",
   "metadata": {},
   "source": [
    "## Node Related Datasets"
   ]
  },
  {
   "cell_type": "code",
   "execution_count": 4,
   "metadata": {},
   "outputs": [],
   "source": [
    "nodes, nodes_tags = xml_retrieve_to_dataframe('node')"
   ]
  },
  {
   "cell_type": "code",
   "execution_count": 5,
   "metadata": {},
   "outputs": [
    {
     "data": {
      "text/html": [
       "<div>\n",
       "<style scoped>\n",
       "    .dataframe tbody tr th:only-of-type {\n",
       "        vertical-align: middle;\n",
       "    }\n",
       "\n",
       "    .dataframe tbody tr th {\n",
       "        vertical-align: top;\n",
       "    }\n",
       "\n",
       "    .dataframe thead th {\n",
       "        text-align: right;\n",
       "    }\n",
       "</style>\n",
       "<table border=\"1\" class=\"dataframe\">\n",
       "  <thead>\n",
       "    <tr style=\"text-align: right;\">\n",
       "      <th></th>\n",
       "      <th>changeset</th>\n",
       "      <th>id</th>\n",
       "      <th>lat</th>\n",
       "      <th>lon</th>\n",
       "      <th>timestamp</th>\n",
       "      <th>uid</th>\n",
       "      <th>user</th>\n",
       "      <th>version</th>\n",
       "    </tr>\n",
       "  </thead>\n",
       "  <tbody>\n",
       "    <tr>\n",
       "      <th>0</th>\n",
       "      <td>5929701</td>\n",
       "      <td>54315452</td>\n",
       "      <td>35.3111691</td>\n",
       "      <td>-116.2478189</td>\n",
       "      <td>2010-10-01T17:14:39Z</td>\n",
       "      <td>194231</td>\n",
       "      <td>Chris Bell in California</td>\n",
       "      <td>4</td>\n",
       "    </tr>\n",
       "    <tr>\n",
       "      <th>1</th>\n",
       "      <td>5929701</td>\n",
       "      <td>54315453</td>\n",
       "      <td>35.3316775</td>\n",
       "      <td>-116.2260267</td>\n",
       "      <td>2010-10-01T17:14:53Z</td>\n",
       "      <td>194231</td>\n",
       "      <td>Chris Bell in California</td>\n",
       "      <td>3</td>\n",
       "    </tr>\n",
       "    <tr>\n",
       "      <th>2</th>\n",
       "      <td>5929701</td>\n",
       "      <td>54315455</td>\n",
       "      <td>35.3599244</td>\n",
       "      <td>-116.1782845</td>\n",
       "      <td>2010-10-01T17:14:35Z</td>\n",
       "      <td>194231</td>\n",
       "      <td>Chris Bell in California</td>\n",
       "      <td>3</td>\n",
       "    </tr>\n",
       "    <tr>\n",
       "      <th>3</th>\n",
       "      <td>5929701</td>\n",
       "      <td>54315457</td>\n",
       "      <td>35.3624572</td>\n",
       "      <td>-116.1739125</td>\n",
       "      <td>2010-10-01T17:13:35Z</td>\n",
       "      <td>194231</td>\n",
       "      <td>Chris Bell in California</td>\n",
       "      <td>3</td>\n",
       "    </tr>\n",
       "    <tr>\n",
       "      <th>4</th>\n",
       "      <td>5929701</td>\n",
       "      <td>54315458</td>\n",
       "      <td>35.3649766</td>\n",
       "      <td>-116.1696890</td>\n",
       "      <td>2010-10-01T17:14:52Z</td>\n",
       "      <td>194231</td>\n",
       "      <td>Chris Bell in California</td>\n",
       "      <td>3</td>\n",
       "    </tr>\n",
       "  </tbody>\n",
       "</table>\n",
       "</div>"
      ],
      "text/plain": [
       "  changeset        id         lat           lon             timestamp     uid  \\\n",
       "0   5929701  54315452  35.3111691  -116.2478189  2010-10-01T17:14:39Z  194231   \n",
       "1   5929701  54315453  35.3316775  -116.2260267  2010-10-01T17:14:53Z  194231   \n",
       "2   5929701  54315455  35.3599244  -116.1782845  2010-10-01T17:14:35Z  194231   \n",
       "3   5929701  54315457  35.3624572  -116.1739125  2010-10-01T17:13:35Z  194231   \n",
       "4   5929701  54315458  35.3649766  -116.1696890  2010-10-01T17:14:52Z  194231   \n",
       "\n",
       "                       user version  \n",
       "0  Chris Bell in California       4  \n",
       "1  Chris Bell in California       3  \n",
       "2  Chris Bell in California       3  \n",
       "3  Chris Bell in California       3  \n",
       "4  Chris Bell in California       3  "
      ]
     },
     "execution_count": 5,
     "metadata": {},
     "output_type": "execute_result"
    }
   ],
   "source": [
    "nodes.head()"
   ]
  },
  {
   "cell_type": "code",
   "execution_count": 6,
   "metadata": {},
   "outputs": [
    {
     "data": {
      "text/html": [
       "<div>\n",
       "<style scoped>\n",
       "    .dataframe tbody tr th:only-of-type {\n",
       "        vertical-align: middle;\n",
       "    }\n",
       "\n",
       "    .dataframe tbody tr th {\n",
       "        vertical-align: top;\n",
       "    }\n",
       "\n",
       "    .dataframe thead th {\n",
       "        text-align: right;\n",
       "    }\n",
       "</style>\n",
       "<table border=\"1\" class=\"dataframe\">\n",
       "  <thead>\n",
       "    <tr style=\"text-align: right;\">\n",
       "      <th></th>\n",
       "      <th>id</th>\n",
       "      <th>k</th>\n",
       "      <th>type</th>\n",
       "      <th>v</th>\n",
       "    </tr>\n",
       "  </thead>\n",
       "  <tbody>\n",
       "    <tr>\n",
       "      <th>0</th>\n",
       "      <td>54315452</td>\n",
       "      <td>power</td>\n",
       "      <td>tag</td>\n",
       "      <td>tower</td>\n",
       "    </tr>\n",
       "    <tr>\n",
       "      <th>1</th>\n",
       "      <td>54315453</td>\n",
       "      <td>power</td>\n",
       "      <td>tag</td>\n",
       "      <td>tower</td>\n",
       "    </tr>\n",
       "    <tr>\n",
       "      <th>2</th>\n",
       "      <td>54315455</td>\n",
       "      <td>power</td>\n",
       "      <td>tag</td>\n",
       "      <td>tower</td>\n",
       "    </tr>\n",
       "    <tr>\n",
       "      <th>3</th>\n",
       "      <td>54315457</td>\n",
       "      <td>power</td>\n",
       "      <td>tag</td>\n",
       "      <td>tower</td>\n",
       "    </tr>\n",
       "    <tr>\n",
       "      <th>4</th>\n",
       "      <td>54315458</td>\n",
       "      <td>power</td>\n",
       "      <td>tag</td>\n",
       "      <td>tower</td>\n",
       "    </tr>\n",
       "  </tbody>\n",
       "</table>\n",
       "</div>"
      ],
      "text/plain": [
       "         id      k type      v\n",
       "0  54315452  power  tag  tower\n",
       "1  54315453  power  tag  tower\n",
       "2  54315455  power  tag  tower\n",
       "3  54315457  power  tag  tower\n",
       "4  54315458  power  tag  tower"
      ]
     },
     "execution_count": 6,
     "metadata": {},
     "output_type": "execute_result"
    }
   ],
   "source": [
    "nodes_tags.head()"
   ]
  },
  {
   "cell_type": "markdown",
   "metadata": {},
   "source": [
    "## Way Related Datasets"
   ]
  },
  {
   "cell_type": "code",
   "execution_count": 7,
   "metadata": {},
   "outputs": [],
   "source": [
    "ways, ways_tags = xml_retrieve_to_dataframe('way')"
   ]
  },
  {
   "cell_type": "code",
   "execution_count": 8,
   "metadata": {},
   "outputs": [
    {
     "data": {
      "text/html": [
       "<div>\n",
       "<style scoped>\n",
       "    .dataframe tbody tr th:only-of-type {\n",
       "        vertical-align: middle;\n",
       "    }\n",
       "\n",
       "    .dataframe tbody tr th {\n",
       "        vertical-align: top;\n",
       "    }\n",
       "\n",
       "    .dataframe thead th {\n",
       "        text-align: right;\n",
       "    }\n",
       "</style>\n",
       "<table border=\"1\" class=\"dataframe\">\n",
       "  <thead>\n",
       "    <tr style=\"text-align: right;\">\n",
       "      <th></th>\n",
       "      <th>changeset</th>\n",
       "      <th>id</th>\n",
       "      <th>timestamp</th>\n",
       "      <th>uid</th>\n",
       "      <th>user</th>\n",
       "      <th>version</th>\n",
       "    </tr>\n",
       "  </thead>\n",
       "  <tbody>\n",
       "    <tr>\n",
       "      <th>0</th>\n",
       "      <td>63816665</td>\n",
       "      <td>14278359</td>\n",
       "      <td>2018-10-24T04:09:08Z</td>\n",
       "      <td>1330847</td>\n",
       "      <td>TheDutchMan13</td>\n",
       "      <td>3</td>\n",
       "    </tr>\n",
       "    <tr>\n",
       "      <th>1</th>\n",
       "      <td>63650721</td>\n",
       "      <td>14278368</td>\n",
       "      <td>2018-10-18T15:58:23Z</td>\n",
       "      <td>8446886</td>\n",
       "      <td>arpremna</td>\n",
       "      <td>4</td>\n",
       "    </tr>\n",
       "    <tr>\n",
       "      <th>2</th>\n",
       "      <td>49150987</td>\n",
       "      <td>14278402</td>\n",
       "      <td>2017-06-01T01:12:47Z</td>\n",
       "      <td>1330847</td>\n",
       "      <td>TheDutchMan13</td>\n",
       "      <td>3</td>\n",
       "    </tr>\n",
       "    <tr>\n",
       "      <th>3</th>\n",
       "      <td>51597855</td>\n",
       "      <td>14278416</td>\n",
       "      <td>2017-08-31T00:37:37Z</td>\n",
       "      <td>1240864</td>\n",
       "      <td>Howpper</td>\n",
       "      <td>7</td>\n",
       "    </tr>\n",
       "    <tr>\n",
       "      <th>4</th>\n",
       "      <td>63081661</td>\n",
       "      <td>14278432</td>\n",
       "      <td>2018-10-01T04:51:05Z</td>\n",
       "      <td>8407155</td>\n",
       "      <td>addatla</td>\n",
       "      <td>6</td>\n",
       "    </tr>\n",
       "  </tbody>\n",
       "</table>\n",
       "</div>"
      ],
      "text/plain": [
       "  changeset        id             timestamp      uid           user version\n",
       "0  63816665  14278359  2018-10-24T04:09:08Z  1330847  TheDutchMan13       3\n",
       "1  63650721  14278368  2018-10-18T15:58:23Z  8446886       arpremna       4\n",
       "2  49150987  14278402  2017-06-01T01:12:47Z  1330847  TheDutchMan13       3\n",
       "3  51597855  14278416  2017-08-31T00:37:37Z  1240864        Howpper       7\n",
       "4  63081661  14278432  2018-10-01T04:51:05Z  8407155        addatla       6"
      ]
     },
     "execution_count": 8,
     "metadata": {},
     "output_type": "execute_result"
    }
   ],
   "source": [
    "ways.head()"
   ]
  },
  {
   "cell_type": "code",
   "execution_count": 9,
   "metadata": {},
   "outputs": [
    {
     "data": {
      "text/html": [
       "<div>\n",
       "<style scoped>\n",
       "    .dataframe tbody tr th:only-of-type {\n",
       "        vertical-align: middle;\n",
       "    }\n",
       "\n",
       "    .dataframe tbody tr th {\n",
       "        vertical-align: top;\n",
       "    }\n",
       "\n",
       "    .dataframe thead th {\n",
       "        text-align: right;\n",
       "    }\n",
       "</style>\n",
       "<table border=\"1\" class=\"dataframe\">\n",
       "  <thead>\n",
       "    <tr style=\"text-align: right;\">\n",
       "      <th></th>\n",
       "      <th>id</th>\n",
       "      <th>k</th>\n",
       "      <th>ref</th>\n",
       "      <th>type</th>\n",
       "      <th>v</th>\n",
       "    </tr>\n",
       "  </thead>\n",
       "  <tbody>\n",
       "    <tr>\n",
       "      <th>0</th>\n",
       "      <td>14278359</td>\n",
       "      <td>NaN</td>\n",
       "      <td>137032593</td>\n",
       "      <td>nd</td>\n",
       "      <td>NaN</td>\n",
       "    </tr>\n",
       "    <tr>\n",
       "      <th>1</th>\n",
       "      <td>14278359</td>\n",
       "      <td>NaN</td>\n",
       "      <td>137032596</td>\n",
       "      <td>nd</td>\n",
       "      <td>NaN</td>\n",
       "    </tr>\n",
       "    <tr>\n",
       "      <th>2</th>\n",
       "      <td>14278359</td>\n",
       "      <td>NaN</td>\n",
       "      <td>137032598</td>\n",
       "      <td>nd</td>\n",
       "      <td>NaN</td>\n",
       "    </tr>\n",
       "    <tr>\n",
       "      <th>3</th>\n",
       "      <td>14278359</td>\n",
       "      <td>NaN</td>\n",
       "      <td>137032600</td>\n",
       "      <td>nd</td>\n",
       "      <td>NaN</td>\n",
       "    </tr>\n",
       "    <tr>\n",
       "      <th>4</th>\n",
       "      <td>14278359</td>\n",
       "      <td>NaN</td>\n",
       "      <td>137032602</td>\n",
       "      <td>nd</td>\n",
       "      <td>NaN</td>\n",
       "    </tr>\n",
       "  </tbody>\n",
       "</table>\n",
       "</div>"
      ],
      "text/plain": [
       "         id    k        ref type    v\n",
       "0  14278359  NaN  137032593   nd  NaN\n",
       "1  14278359  NaN  137032596   nd  NaN\n",
       "2  14278359  NaN  137032598   nd  NaN\n",
       "3  14278359  NaN  137032600   nd  NaN\n",
       "4  14278359  NaN  137032602   nd  NaN"
      ]
     },
     "execution_count": 9,
     "metadata": {},
     "output_type": "execute_result"
    }
   ],
   "source": [
    "ways_tags.head()"
   ]
  },
  {
   "cell_type": "code",
   "execution_count": 10,
   "metadata": {},
   "outputs": [],
   "source": [
    "ways_nodes = ways_tags.loc[ways_tags['type'] == 'nd', :]\n",
    "ways_tags = ways_tags.loc[ways_tags['type'] != 'nd', :]"
   ]
  },
  {
   "cell_type": "code",
   "execution_count": 11,
   "metadata": {},
   "outputs": [
    {
     "data": {
      "text/html": [
       "<div>\n",
       "<style scoped>\n",
       "    .dataframe tbody tr th:only-of-type {\n",
       "        vertical-align: middle;\n",
       "    }\n",
       "\n",
       "    .dataframe tbody tr th {\n",
       "        vertical-align: top;\n",
       "    }\n",
       "\n",
       "    .dataframe thead th {\n",
       "        text-align: right;\n",
       "    }\n",
       "</style>\n",
       "<table border=\"1\" class=\"dataframe\">\n",
       "  <thead>\n",
       "    <tr style=\"text-align: right;\">\n",
       "      <th></th>\n",
       "      <th>id</th>\n",
       "      <th>ref</th>\n",
       "    </tr>\n",
       "  </thead>\n",
       "  <tbody>\n",
       "    <tr>\n",
       "      <th>0</th>\n",
       "      <td>14278359</td>\n",
       "      <td>137032593</td>\n",
       "    </tr>\n",
       "    <tr>\n",
       "      <th>1</th>\n",
       "      <td>14278359</td>\n",
       "      <td>137032596</td>\n",
       "    </tr>\n",
       "    <tr>\n",
       "      <th>2</th>\n",
       "      <td>14278359</td>\n",
       "      <td>137032598</td>\n",
       "    </tr>\n",
       "    <tr>\n",
       "      <th>3</th>\n",
       "      <td>14278359</td>\n",
       "      <td>137032600</td>\n",
       "    </tr>\n",
       "    <tr>\n",
       "      <th>4</th>\n",
       "      <td>14278359</td>\n",
       "      <td>137032602</td>\n",
       "    </tr>\n",
       "  </tbody>\n",
       "</table>\n",
       "</div>"
      ],
      "text/plain": [
       "         id        ref\n",
       "0  14278359  137032593\n",
       "1  14278359  137032596\n",
       "2  14278359  137032598\n",
       "3  14278359  137032600\n",
       "4  14278359  137032602"
      ]
     },
     "execution_count": 11,
     "metadata": {},
     "output_type": "execute_result"
    }
   ],
   "source": [
    "ways_nodes.drop(columns=['k', 'type', 'v'], inplace=True)\n",
    "ways_nodes.head()"
   ]
  },
  {
   "cell_type": "code",
   "execution_count": 12,
   "metadata": {},
   "outputs": [
    {
     "data": {
      "text/html": [
       "<div>\n",
       "<style scoped>\n",
       "    .dataframe tbody tr th:only-of-type {\n",
       "        vertical-align: middle;\n",
       "    }\n",
       "\n",
       "    .dataframe tbody tr th {\n",
       "        vertical-align: top;\n",
       "    }\n",
       "\n",
       "    .dataframe thead th {\n",
       "        text-align: right;\n",
       "    }\n",
       "</style>\n",
       "<table border=\"1\" class=\"dataframe\">\n",
       "  <thead>\n",
       "    <tr style=\"text-align: right;\">\n",
       "      <th></th>\n",
       "      <th>id</th>\n",
       "      <th>k</th>\n",
       "      <th>type</th>\n",
       "      <th>v</th>\n",
       "    </tr>\n",
       "  </thead>\n",
       "  <tbody>\n",
       "    <tr>\n",
       "      <th>19</th>\n",
       "      <td>14278359</td>\n",
       "      <td>highway</td>\n",
       "      <td>tag</td>\n",
       "      <td>residential</td>\n",
       "    </tr>\n",
       "    <tr>\n",
       "      <th>20</th>\n",
       "      <td>14278359</td>\n",
       "      <td>name</td>\n",
       "      <td>tag</td>\n",
       "      <td>Rue De Parc</td>\n",
       "    </tr>\n",
       "    <tr>\n",
       "      <th>21</th>\n",
       "      <td>14278359</td>\n",
       "      <td>tiger:cfcc</td>\n",
       "      <td>tag</td>\n",
       "      <td>A41</td>\n",
       "    </tr>\n",
       "    <tr>\n",
       "      <th>22</th>\n",
       "      <td>14278359</td>\n",
       "      <td>tiger:county</td>\n",
       "      <td>tag</td>\n",
       "      <td>Clark, NV</td>\n",
       "    </tr>\n",
       "    <tr>\n",
       "      <th>23</th>\n",
       "      <td>14278359</td>\n",
       "      <td>tiger:name_base</td>\n",
       "      <td>tag</td>\n",
       "      <td>Rue de Parc</td>\n",
       "    </tr>\n",
       "  </tbody>\n",
       "</table>\n",
       "</div>"
      ],
      "text/plain": [
       "          id                k type            v\n",
       "19  14278359          highway  tag  residential\n",
       "20  14278359             name  tag  Rue De Parc\n",
       "21  14278359       tiger:cfcc  tag          A41\n",
       "22  14278359     tiger:county  tag    Clark, NV\n",
       "23  14278359  tiger:name_base  tag  Rue de Parc"
      ]
     },
     "execution_count": 12,
     "metadata": {},
     "output_type": "execute_result"
    }
   ],
   "source": [
    "ways_tags.drop(columns=['ref'], inplace=True)\n",
    "ways_tags.head()"
   ]
  },
  {
   "cell_type": "code",
   "execution_count": 13,
   "metadata": {},
   "outputs": [
    {
     "data": {
      "text/plain": [
       "array(['highway', 'name', 'tiger:cfcc', 'tiger:county', 'tiger:name_base',\n",
       "       'tiger:reviewed', 'access', 'tiger:name_type', 'source', 'surface',\n",
       "       'tracktype', 'electrified', 'gauge', 'operator', 'railway',\n",
       "       'service', 'review', 'bicycle', 'destination', 'lanes', 'oneway',\n",
       "       'destination:ref', 'tiger:separated', 'tiger:source', 'tiger:tlid',\n",
       "       'tiger:upload_uuid', 'cables', 'frequency', 'layer', 'power',\n",
       "       'voltage', 'destination:street', 'junction', 'name_1',\n",
       "       'tiger:name_base_1', 'maxspeed', 'tiger:name_direction_prefix',\n",
       "       'tiger:name_type_1', 'sidewalk', 'tiger:name_direction_prefix_1',\n",
       "       'old_ref', 'source:old_ref', 'bridge', 'is_in', 'source:maxspeed',\n",
       "       'name_2', 'tiger:name_base_2', 'owner', 'usage',\n",
       "       'tiger:name_type_2', 'hgv', 'ref', 'NHS', 'alt_name',\n",
       "       'hgv:national_network', 'old_name', 'source:hgv:national_network',\n",
       "       'lit', 'addr:postcode', 'tiger:name_direction_prefix_2',\n",
       "       'cycleway', 'leisure', 'sport', 'foot', 'tunnel', 'segregated',\n",
       "       'landuse', 'created_by', 'amenity', 'ele', 'gnis:county_id',\n",
       "       'gnis:created', 'gnis:feature_id', 'gnis:state_id', 'FIXME:name',\n",
       "       'addr:city', 'addr:housenumber', 'addr:street', 'phone', 'website',\n",
       "       'wikidata', 'wikipedia', 'embankment', 'fixme', 'noname',\n",
       "       'intermittent', 'waterway', 'addr:state', 'description',\n",
       "       'golf:course', 'golf:par', 'natural', 'religion', 'building',\n",
       "       'shop', 'denomination', 'brand', 'brand:wikipedia', 'tourism',\n",
       "       'admin_level', 'boundary', 'postal_code', 'wires', 'mtb:scale',\n",
       "       'note', 'width', 'horse', 'motor_vehicle', 'barrier', 'smoothness',\n",
       "       'source_ref', 'cycleway:right', 'brand:wikidata', 'designation',\n",
       "       'source:name', 'gnis:edited', 'salt', 'tidal', 'water', 'tigis',\n",
       "       'golf', 'parking', 'cuisine', 'takeaway', 'footway',\n",
       "       'capacity:disabled', 'FIXME', 'emergency', 'area', 'sac_scale',\n",
       "       'opening_hours', 'addr:housename', 'email', 'capacity',\n",
       "       'wheelchair', 'man_made', 'parking:condition:both',\n",
       "       'parking:lane:both', 'beds', 'healthcare', 'gnis:county_name',\n",
       "       'attraction', 'lanes:backward', 'lanes:forward',\n",
       "       'turn:lanes:forward', 'crossing', 'fence_type', 'max_age',\n",
       "       'min_age', 'abandoned', 'atm', 'dispensing', 'incline',\n",
       "       'mtb:scale:imba', 'trail_visibility', 'addr:country',\n",
       "       'toilets:wheelchair', 'building:levels', 'smoking', 'ref:walmart',\n",
       "       'cycling', 'ford', 'building:min_level', 'old_railway_operator',\n",
       "       'placement', 'turn:lanes', 'payment:american_express',\n",
       "       'payment:cash', 'payment:coins', 'payment:discover_card',\n",
       "       'payment:mastercard', 'payment:visa', 'payment:visa_debit',\n",
       "       'basin', 'attribution', 'delivery', 'drive_through',\n",
       "       'outdoor_seating', 'location', 'substance', 'aeroway', 'faa',\n",
       "       'road_marking', 'modifier', 'name:en', 'generator:source',\n",
       "       'generator:type', 'covered', 'diaper', 'fee', 'toilets:disposal',\n",
       "       'unisex', 'hoops', 'generator:method',\n",
       "       'generator:output:electricity', 'addr:unit', 'craft',\n",
       "       'service_times', 'operator:wikidata', 'operator:wikipedia',\n",
       "       'shelter_type', 'culvert', 'maxstay', 'park_ride', 'supervised',\n",
       "       'swimming_pool', 'opening_hours:url', 'playground', 'residential',\n",
       "       'golf_cart', 'handicap', 'par', 'kerb', 'traffic_calming'],\n",
       "      dtype=object)"
      ]
     },
     "execution_count": 13,
     "metadata": {},
     "output_type": "execute_result"
    }
   ],
   "source": [
    "ways_tags['k'].unique()"
   ]
  },
  {
   "cell_type": "markdown",
   "metadata": {},
   "source": [
    "## Data Cleaning/Munging"
   ]
  },
  {
   "cell_type": "markdown",
   "metadata": {},
   "source": [
    "Discover what values may be good candidates for cleaning (i.e. lots of values) and have values that can be recoded."
   ]
  },
  {
   "cell_type": "code",
   "execution_count": 14,
   "metadata": {},
   "outputs": [
    {
     "name": "stdout",
     "output_type": "stream",
     "text": [
      "highway  -  21646\n",
      "name  -  6784\n",
      "tiger:cfcc  -  4140\n",
      "tiger:county  -  4157\n",
      "tiger:name_base  -  4079\n",
      "tiger:reviewed  -  3940\n",
      "access  -  850\n",
      "tiger:name_type  -  3890\n",
      "source  -  9740\n",
      "surface  -  1736\n",
      "tracktype  -  31\n",
      "electrified  -  95\n",
      "gauge  -  95\n",
      "operator  -  104\n",
      "railway  -  99\n",
      "service  -  3204\n",
      "review  -  8741\n",
      "bicycle  -  951\n",
      "destination  -  47\n",
      "lanes  -  452\n",
      "oneway  -  2583\n",
      "destination:ref  -  16\n",
      "tiger:separated  -  80\n",
      "tiger:source  -  89\n",
      "tiger:tlid  -  90\n",
      "tiger:upload_uuid  -  36\n",
      "cables  -  42\n",
      "frequency  -  23\n",
      "layer  -  362\n",
      "power  -  90\n",
      "voltage  -  31\n",
      "destination:street  -  5\n",
      "junction  -  94\n",
      "name_1  -  272\n",
      "tiger:name_base_1  -  275\n",
      "maxspeed  -  261\n",
      "tiger:name_direction_prefix  -  340\n",
      "tiger:name_type_1  -  137\n",
      "sidewalk  -  31\n",
      "tiger:name_direction_prefix_1  -  36\n",
      "old_ref  -  182\n",
      "source:old_ref  -  5\n",
      "bridge  -  198\n",
      "is_in  -  14\n",
      "source:maxspeed  -  6\n",
      "name_2  -  17\n",
      "tiger:name_base_2  -  16\n",
      "owner  -  29\n",
      "usage  -  26\n",
      "tiger:name_type_2  -  9\n",
      "hgv  -  89\n",
      "ref  -  238\n",
      "NHS  -  5\n",
      "alt_name  -  44\n",
      "hgv:national_network  -  5\n",
      "old_name  -  69\n",
      "source:hgv:national_network  -  5\n",
      "lit  -  50\n",
      "addr:postcode  -  104\n",
      "tiger:name_direction_prefix_2  -  1\n",
      "cycleway  -  22\n",
      "leisure  -  508\n",
      "sport  -  280\n",
      "foot  -  664\n",
      "tunnel  -  135\n",
      "segregated  -  169\n",
      "landuse  -  916\n",
      "created_by  -  8\n",
      "amenity  -  443\n",
      "ele  -  52\n",
      "gnis:county_id  -  40\n",
      "gnis:created  -  40\n",
      "gnis:feature_id  -  57\n",
      "gnis:state_id  -  40\n",
      "FIXME:name  -  1\n",
      "addr:city  -  467\n",
      "addr:housenumber  -  525\n",
      "addr:street  -  541\n",
      "phone  -  26\n",
      "website  -  34\n",
      "wikidata  -  9\n",
      "wikipedia  -  5\n",
      "embankment  -  21\n",
      "fixme  -  32\n",
      "noname  -  6\n",
      "intermittent  -  380\n",
      "waterway  -  420\n",
      "addr:state  -  456\n",
      "description  -  36\n",
      "golf:course  -  3\n",
      "golf:par  -  3\n",
      "natural  -  249\n",
      "religion  -  13\n",
      "building  -  9905\n",
      "shop  -  51\n",
      "denomination  -  8\n",
      "brand  -  28\n",
      "brand:wikipedia  -  26\n",
      "tourism  -  19\n",
      "admin_level  -  15\n",
      "boundary  -  17\n",
      "postal_code  -  13\n",
      "wires  -  19\n",
      "mtb:scale  -  13\n",
      "note  -  42\n",
      "width  -  13\n",
      "horse  -  36\n",
      "motor_vehicle  -  67\n",
      "barrier  -  210\n",
      "smoothness  -  7\n",
      "source_ref  -  17\n",
      "cycleway:right  -  6\n",
      "brand:wikidata  -  25\n",
      "designation  -  3\n",
      "source:name  -  2\n",
      "gnis:edited  -  5\n",
      "salt  -  3\n",
      "tidal  -  3\n",
      "water  -  46\n",
      "tigis  -  5\n",
      "golf  -  468\n",
      "parking  -  52\n",
      "cuisine  -  29\n",
      "takeaway  -  4\n",
      "footway  -  5906\n",
      "capacity:disabled  -  17\n",
      "FIXME  -  7\n",
      "emergency  -  6\n",
      "area  -  84\n",
      "sac_scale  -  9\n",
      "opening_hours  -  24\n",
      "addr:housename  -  2\n",
      "email  -  2\n",
      "capacity  -  14\n",
      "wheelchair  -  6\n",
      "man_made  -  23\n",
      "parking:condition:both  -  1\n",
      "parking:lane:both  -  1\n",
      "beds  -  1\n",
      "healthcare  -  7\n",
      "gnis:county_name  -  10\n",
      "attraction  -  2\n",
      "lanes:backward  -  5\n",
      "lanes:forward  -  5\n",
      "turn:lanes:forward  -  4\n",
      "crossing  -  197\n",
      "fence_type  -  4\n",
      "max_age  -  3\n",
      "min_age  -  3\n",
      "abandoned  -  1\n",
      "atm  -  6\n",
      "dispensing  -  3\n",
      "incline  -  37\n",
      "mtb:scale:imba  -  3\n",
      "trail_visibility  -  3\n",
      "addr:country  -  55\n",
      "toilets:wheelchair  -  1\n",
      "building:levels  -  44\n",
      "smoking  -  1\n",
      "ref:walmart  -  3\n",
      "cycling  -  1\n",
      "ford  -  4\n",
      "building:min_level  -  1\n",
      "old_railway_operator  -  1\n",
      "placement  -  21\n",
      "turn:lanes  -  21\n",
      "payment:american_express  -  1\n",
      "payment:cash  -  1\n",
      "payment:coins  -  1\n",
      "payment:discover_card  -  1\n",
      "payment:mastercard  -  1\n",
      "payment:visa  -  1\n",
      "payment:visa_debit  -  1\n",
      "basin  -  1\n",
      "attribution  -  2\n",
      "delivery  -  1\n",
      "drive_through  -  2\n",
      "outdoor_seating  -  3\n",
      "location  -  3\n",
      "substance  -  2\n",
      "aeroway  -  3\n",
      "faa  -  1\n",
      "road_marking  -  615\n",
      "modifier  -  98\n",
      "name:en  -  1\n",
      "generator:source  -  2\n",
      "generator:type  -  2\n",
      "covered  -  3\n",
      "diaper  -  1\n",
      "fee  -  2\n",
      "toilets:disposal  -  1\n",
      "unisex  -  1\n",
      "hoops  -  2\n",
      "generator:method  -  2\n",
      "generator:output:electricity  -  1\n",
      "addr:unit  -  1\n",
      "craft  -  1\n",
      "service_times  -  1\n",
      "operator:wikidata  -  2\n",
      "operator:wikipedia  -  2\n",
      "shelter_type  -  8\n",
      "culvert  -  4\n",
      "maxstay  -  1\n",
      "park_ride  -  1\n",
      "supervised  -  1\n",
      "swimming_pool  -  1\n",
      "opening_hours:url  -  1\n",
      "playground  -  2\n",
      "residential  -  1\n",
      "golf_cart  -  35\n",
      "handicap  -  18\n",
      "par  -  18\n",
      "kerb  -  1\n",
      "traffic_calming  -  1\n"
     ]
    }
   ],
   "source": [
    "for col_name in ways_tags['k'].unique():\n",
    "    print(col_name, ' - ', ways_tags.loc[ways_tags['k'] == col_name, :].count()['v'])"
   ]
  },
  {
   "cell_type": "markdown",
   "metadata": {},
   "source": [
    "Yes/No now replace with True/False values. These could be boolean if data was of uniform type."
   ]
  },
  {
   "cell_type": "code",
   "execution_count": 15,
   "metadata": {},
   "outputs": [],
   "source": [
    "yes_no_dict = {'yes':'True', 'no':'False', 'YES':'True', 'Yes':'True', 'NO':'False', 'No':'False'}"
   ]
  },
  {
   "cell_type": "code",
   "execution_count": 16,
   "metadata": {},
   "outputs": [],
   "source": [
    "ways_tags['v'].replace(yes_no_dict, inplace=True)"
   ]
  },
  {
   "cell_type": "markdown",
   "metadata": {},
   "source": [
    "### Ensure dataframe columns are in order designated in SQL"
   ]
  },
  {
   "cell_type": "markdown",
   "metadata": {},
   "source": [
    "### Nodes Table - Clean/Enforce Data Types"
   ]
  },
  {
   "cell_type": "code",
   "execution_count": 17,
   "metadata": {},
   "outputs": [
    {
     "name": "stdout",
     "output_type": "stream",
     "text": [
      "<class 'pandas.core.frame.DataFrame'>\n",
      "RangeIndex: 353779 entries, 0 to 353778\n",
      "Data columns (total 8 columns):\n",
      "id           353779 non-null float64\n",
      "lat          353779 non-null float64\n",
      "lon          353779 non-null float64\n",
      "user         353779 non-null object\n",
      "uid          353779 non-null float64\n",
      "version      353779 non-null int32\n",
      "changeset    353779 non-null float64\n",
      "timestamp    353779 non-null object\n",
      "dtypes: float64(5), int32(1), object(2)\n",
      "memory usage: 17.5+ MB\n"
     ]
    }
   ],
   "source": [
    "nodes['id'] = nodes['id'].astype(float)\n",
    "nodes['lat'] = nodes['lat'].astype(float)\n",
    "nodes['lon'] = nodes['lon'].astype(float)\n",
    "nodes['uid'] = nodes['uid'].astype(float)\n",
    "nodes['changeset'] = nodes['changeset'].astype(float)\n",
    "nodes['version'] = nodes['version'].astype(int)\n",
    "nodes.fillna('', inplace=True)\n",
    "nodes = nodes[['id', 'lat', 'lon', 'user', 'uid', 'version', 'changeset', 'timestamp']]\n",
    "nodes.info()"
   ]
  },
  {
   "cell_type": "markdown",
   "metadata": {},
   "source": [
    "### Nodes_Tags Table - Clean/Enforce Data Types"
   ]
  },
  {
   "cell_type": "code",
   "execution_count": 18,
   "metadata": {},
   "outputs": [
    {
     "name": "stdout",
     "output_type": "stream",
     "text": [
      "<class 'pandas.core.frame.DataFrame'>\n",
      "RangeIndex: 16534 entries, 0 to 16533\n",
      "Data columns (total 4 columns):\n",
      "id      16534 non-null float64\n",
      "k       16534 non-null object\n",
      "v       16534 non-null object\n",
      "type    16534 non-null object\n",
      "dtypes: float64(1), object(3)\n",
      "memory usage: 323.0+ KB\n"
     ]
    }
   ],
   "source": [
    "nodes_tags['id'] = nodes_tags['id'].astype(float)\n",
    "nodes_tags.fillna('', inplace=True)\n",
    "nodes_tags = nodes_tags[['id', 'k', 'v', 'type']]\n",
    "nodes_tags.info()"
   ]
  },
  {
   "cell_type": "markdown",
   "metadata": {},
   "source": [
    "### Ways Table - Clean/Enforce Data Types"
   ]
  },
  {
   "cell_type": "code",
   "execution_count": 19,
   "metadata": {},
   "outputs": [
    {
     "name": "stdout",
     "output_type": "stream",
     "text": [
      "<class 'pandas.core.frame.DataFrame'>\n",
      "RangeIndex: 35264 entries, 0 to 35263\n",
      "Data columns (total 6 columns):\n",
      "id           35264 non-null float64\n",
      "user         35264 non-null object\n",
      "uid          35264 non-null float64\n",
      "version      35264 non-null object\n",
      "changeset    35264 non-null float64\n",
      "timestamp    35264 non-null object\n",
      "dtypes: float64(3), object(3)\n",
      "memory usage: 1.2+ MB\n"
     ]
    }
   ],
   "source": [
    "ways['id'] = ways['id'].astype(float)\n",
    "ways['uid'] = ways['uid'].astype(float)\n",
    "ways['changeset'] = ways['changeset'].astype(float)\n",
    "ways.fillna('', inplace=True)\n",
    "ways = ways[['id', 'user', 'uid', 'version', 'changeset', 'timestamp']]\n",
    "ways.info()"
   ]
  },
  {
   "cell_type": "markdown",
   "metadata": {},
   "source": [
    "### Ways_Tags Table - Clean/Enforce Data Types"
   ]
  },
  {
   "cell_type": "code",
   "execution_count": 20,
   "metadata": {},
   "outputs": [
    {
     "name": "stdout",
     "output_type": "stream",
     "text": [
      "<class 'pandas.core.frame.DataFrame'>\n",
      "Int64Index: 105949 entries, 19 to 519222\n",
      "Data columns (total 4 columns):\n",
      "id      105949 non-null float64\n",
      "k       105949 non-null object\n",
      "v       105949 non-null object\n",
      "type    105949 non-null object\n",
      "dtypes: float64(1), object(3)\n",
      "memory usage: 2.8+ MB\n"
     ]
    }
   ],
   "source": [
    "ways_tags['id'] = ways_tags['id'].astype(float)\n",
    "ways_tags.fillna('', inplace=True)\n",
    "ways_tags = ways_tags[['id', 'k', 'v', 'type']]\n",
    "ways_tags.info()"
   ]
  },
  {
   "cell_type": "markdown",
   "metadata": {},
   "source": [
    "### Ensure Columns are in Proper Order"
   ]
  },
  {
   "cell_type": "code",
   "execution_count": 21,
   "metadata": {},
   "outputs": [
    {
     "name": "stdout",
     "output_type": "stream",
     "text": [
      "<class 'pandas.core.frame.DataFrame'>\n",
      "Int64Index: 413274 entries, 0 to 519219\n",
      "Data columns (total 2 columns):\n",
      "id     413274 non-null float64\n",
      "ref    413274 non-null float64\n",
      "dtypes: float64(2)\n",
      "memory usage: 9.5 MB\n"
     ]
    }
   ],
   "source": [
    "ways_nodes['id'] = ways_nodes['id'].astype(float)\n",
    "ways_nodes['ref'] = ways_nodes['ref'].astype(float)\n",
    "ways_nodes.fillna('', inplace=True)\n",
    "ways_nodes = ways_nodes[['id', 'ref']]\n",
    "ways_nodes.info()"
   ]
  },
  {
   "cell_type": "markdown",
   "metadata": {},
   "source": [
    "## Export DataFrames to CSV for Import into SQL"
   ]
  },
  {
   "cell_type": "code",
   "execution_count": 23,
   "metadata": {},
   "outputs": [],
   "source": [
    "nodes.to_csv(os.path.join(filepath, 'nodes.csv'), index=False)\n",
    "nodes_tags.to_csv(os.path.join(filepath, 'nodes_tags.csv'), index=False)\n",
    "ways.to_csv(os.path.join(filepath, 'ways.csv'), index=False)\n",
    "ways_tags.to_csv(os.path.join(filepath, 'ways_tags.csv'), index=False)\n",
    "ways_nodes.to_csv(os.path.join(filepath, 'ways_nodes.csv'), index=False)"
   ]
  }
 ],
 "metadata": {
  "kernelspec": {
   "display_name": "Python 3",
   "language": "python",
   "name": "python3"
  },
  "language_info": {
   "codemirror_mode": {
    "name": "ipython",
    "version": 3
   },
   "file_extension": ".py",
   "mimetype": "text/x-python",
   "name": "python",
   "nbconvert_exporter": "python",
   "pygments_lexer": "ipython3",
   "version": "3.7.3"
  }
 },
 "nbformat": 4,
 "nbformat_minor": 2
}
