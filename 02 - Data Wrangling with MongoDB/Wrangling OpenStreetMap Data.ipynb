{
 "cells": [
  {
   "cell_type": "markdown",
   "metadata": {},
   "source": [
    "# Wrangling Open Street Map Data\n",
    "\n",
    "---"
   ]
  },
  {
   "cell_type": "markdown",
   "metadata": {},
   "source": [
    "### Introduction<a name='#intro'></a>\n",
    "This project aims to analyze a subset of the [Open Street Map](https://www.openstreetmap.org/#map=13/36.0175/-114.9745) (\"OSM\") data for my hometown of Henderson, Nevada. Data is retrieved from OSM through a third-party API called overpass in a XML based .OSM file format. A data auditing and cleaning process is applied to the data and a new \"cleaned\" dataset is output in an XML file format. The data is then tranformed into more \"data science friendly\" Pandas DataFrames for analysis and future modeling. The DataFrames are exported to .CSV fie format where they are then imported into a SQLite database for querying\n",
    "and analysis by others.\n",
    "\n",
    "#### Map Area - Henderson, Nevada, United States\n",
    "![Henderson,NV](Map_Image.png)\n"
   ]
  },
  {
   "cell_type": "markdown",
   "metadata": {},
   "source": [
    "### Challenges Encountered <a name=\"#challenge\"></a>\n",
    "*Data Cleanliness*\n",
    "\n",
    "- The vast majority of address fields located in this dataset were correct. However there were a few that needed correction such as \"Dr.\" for drive and \"St\" for street. These were easily cleaned with a function and regular expressions. However, there were some records that were not rapidly apparent as to their nature (i.e. \"Avenue I\"). Internet searches were unfruitful so these values were stripped of their trailing letter and left as \"Avenue\".\n",
    "\n",
    "\n",
    "- All Latitude/Longitude/ZipCode/County fields were correct at the time of this writing. More time was spent on ensuring functions were created to catch bad data that I did not consider this data would be very clean already.\n",
    "\n",
    "*Data Structure*\n",
    "\n",
    "- While universal, XML made the task of retrieving data a bit more complicated than it would have been provided in a JSON or tabular file format. \n",
    "\n",
    "\n",
    "- Instead of relying on attributes, the data instead opted for an almost pure Key->Value relationship. This required extra attention and processing of data in parts of the data utilizing predominantly Key-Value (tag data).\n",
    "\n",
    "\n",
    "- Due to the vertical structure of the data (instead of a more traditional tabular structure), all values from keys had to be stored in the database as a text data type. There were several candidates that could have used a space saving data type such as int or float. With a schema redesign and some pivoting of the source DataFrames, this issue could be resolved.\n",
    "\n",
    "*Variety of User Types Entering Data*\n",
    "\n",
    "- From analyzing and inspecting the data, it would appear that users editing the OSM data were likely doing so for a variety of reasons. In my particular region, there was not a lot of \"fun\" (restaurants, etc.) data compared to more industrial data such as locations of power lines/highway trails/etc. This is discussed further in the [Improvements/Suggestions](#improvements) section\n",
    "\n",
    "\n",
    "- TIGER entered data often duplicated fields that already existed in the dataset. If TIGER is to be the authority of certain fields in the data, it may be a consideration to replace user entered fields with those entered by [TIGER](https://wiki.openstreetmap.org/wiki/TIGER)\n",
    "---"
   ]
  },
  {
   "cell_type": "markdown",
   "metadata": {},
   "source": [
    "### Data Processing/Auditing/Cleaning <a name='#dataclean'></a>\n",
    "*Audit.py*\n",
    "- Data is read in from the Henderson.osm xml file\n",
    "- Data is iterated through and the following columns are cleaned/verified: street, county, zipcode, latitude, longitude\n",
    "- Records falling outsides norms are printed to the user\n",
    "- Once records have been iterated and cleaned, the cleaned data is output to the Cleaned_Henderson.osm XML file\n",
    "\n",
    "*Convert_XML_to_DataFrame_CSV.py*\n",
    "- Cleaned data is iterated through and converted to a Pandas DataFrame for easy analysis/operations \n",
    "- Data is analyzed for columns of interest or abnormalities\n",
    "- Some additional cleaning is done (replacing Yes/No values with True/False strings)\n",
    "- Each DataFrame represents a SQL table that will be created. For each DataFrame the data types are enforced and any missing values are given an empty string. Finally columns are put into the proper order the SQL database expects.\n",
    "- Each DataFrame is exported to CSV file format for easy import into SQL tables\n",
    "> **Analyst Note**: Jupyter Notebook avaliable with notes detailing steps taken/analysis completed\n",
    "\n",
    "*create_SQL_tables.py*\n",
    "- After a database has been created in the SQLite shell, a connection to the DB is made via Python\n",
    "- Queries are created for each table to be created\n",
    "- The queries are iterated through and executed, creating the tables in our database\n",
    "- SQLite shell commands are run importing our data from the .CSV into our newly created tables \n",
    "> **Analyst Note**: Jupyter Notebook avaliable with steps and notes as well as SQLite shell commands\n",
    "---"
   ]
  },
  {
   "cell_type": "markdown",
   "metadata": {},
   "source": [
    "### Dataset Statistics/Items of Interest <a name='#datastats'></a>"
   ]
  },
  {
   "cell_type": "markdown",
   "metadata": {},
   "source": [
    "#### Function to Retrieve Custom SQL Queries and Output as DataFrame Object\n",
    "This function allows analyst to easily write custom SQL queries and send them directly to our SQLite server. Once retrieved, records are output/displayed as a Pandas DataFrame for easy maniupulation/plotting/and displaying in Jupyter Environment."
   ]
  },
  {
   "cell_type": "code",
   "execution_count": 4,
   "metadata": {},
   "outputs": [],
   "source": [
    "import sqlite3 as sq\n",
    "import os\n",
    "import pandas as pd\n",
    "import re\n",
    "\n",
    "filepath = r'S:\\Code\\School\\WGU_DataAnalyst_NanoDegree\\02 - Data Wrangling with MongoDB'"
   ]
  },
  {
   "cell_type": "markdown",
   "metadata": {},
   "source": [
    "Function:"
   ]
  },
  {
   "cell_type": "code",
   "execution_count": 2,
   "metadata": {},
   "outputs": [],
   "source": [
    "def return_sql_query_as_dataframe(sql_query):\n",
    "    #Connect to SQL DB\n",
    "    connection = sq.connect(os.path.join(filepath, 'MapData.db'))\n",
    "    cursor = connection.cursor()\n",
    "    \n",
    "    #Send user query to Cursor\n",
    "    query = sql_query\n",
    "    cursor.execute(query)\n",
    "    \n",
    "    #Fetch results and return a Pandas DF\n",
    "    result = cursor.fetchall()\n",
    "    names = [description[0] for description in cursor.description]\n",
    "    return(pd.DataFrame(result, columns=names))"
   ]
  },
  {
   "cell_type": "markdown",
   "metadata": {},
   "source": [
    "#### Files and File Sizes\n",
    "List files sizes for .OSM XML files and output .CSV files"
   ]
  },
  {
   "cell_type": "code",
   "execution_count": 5,
   "metadata": {},
   "outputs": [
    {
     "name": "stdout",
     "output_type": "stream",
     "text": [
      "Cleaned_Henderson.osm -- 76697.4KB\n",
      "henderson.osm -- 75833.1KB\n",
      "nodes.csv -- 31376.1KB\n",
      "nodes_tags.csv -- 557.8KB\n",
      "ways.csv -- 2313.8KB\n",
      "ways_nodes.csv -- 10428.6KB\n",
      "ways_tags.csv -- 3538.6KB\n"
     ]
    }
   ],
   "source": [
    "for root, dirs, files in os.walk(filepath):  \n",
    "    for fn in files:\n",
    "        if re.search('\\.[csv|.osm]', fn):\n",
    "            path = os.path.join(root, fn)\n",
    "            size = os.stat(path).st_size # in bytes\n",
    "            print(fn,\"--\", \"{}KB\".format(str(round(float(size/1024), 1))))"
   ]
  },
  {
   "cell_type": "markdown",
   "metadata": {},
   "source": [
    "#### Number of Unique Users"
   ]
  },
  {
   "cell_type": "code",
   "execution_count": 6,
   "metadata": {},
   "outputs": [
    {
     "data": {
      "text/html": [
       "<div>\n",
       "<style scoped>\n",
       "    .dataframe tbody tr th:only-of-type {\n",
       "        vertical-align: middle;\n",
       "    }\n",
       "\n",
       "    .dataframe tbody tr th {\n",
       "        vertical-align: top;\n",
       "    }\n",
       "\n",
       "    .dataframe thead th {\n",
       "        text-align: right;\n",
       "    }\n",
       "</style>\n",
       "<table border=\"1\" class=\"dataframe\">\n",
       "  <thead>\n",
       "    <tr style=\"text-align: right;\">\n",
       "      <th></th>\n",
       "      <th>Distinct Users in Both Tables</th>\n",
       "    </tr>\n",
       "  </thead>\n",
       "  <tbody>\n",
       "    <tr>\n",
       "      <th>0</th>\n",
       "      <td>394</td>\n",
       "    </tr>\n",
       "  </tbody>\n",
       "</table>\n",
       "</div>"
      ],
      "text/plain": [
       "   Distinct Users in Both Tables\n",
       "0                            394"
      ]
     },
     "execution_count": 6,
     "metadata": {},
     "output_type": "execute_result"
    }
   ],
   "source": [
    "query = '''select count(distinct b.user) as \"Distinct Users in Both Tables\" \n",
    "from (\n",
    "select user from nodes \n",
    "union \n",
    "select user from ways)b;'''\n",
    "return_sql_query_as_dataframe(query)"
   ]
  },
  {
   "cell_type": "markdown",
   "metadata": {},
   "source": [
    "#### Number of Nodes in Dataset"
   ]
  },
  {
   "cell_type": "code",
   "execution_count": 7,
   "metadata": {},
   "outputs": [
    {
     "data": {
      "text/html": [
       "<div>\n",
       "<style scoped>\n",
       "    .dataframe tbody tr th:only-of-type {\n",
       "        vertical-align: middle;\n",
       "    }\n",
       "\n",
       "    .dataframe tbody tr th {\n",
       "        vertical-align: top;\n",
       "    }\n",
       "\n",
       "    .dataframe thead th {\n",
       "        text-align: right;\n",
       "    }\n",
       "</style>\n",
       "<table border=\"1\" class=\"dataframe\">\n",
       "  <thead>\n",
       "    <tr style=\"text-align: right;\">\n",
       "      <th></th>\n",
       "      <th>Number of Nodes in Dataset</th>\n",
       "    </tr>\n",
       "  </thead>\n",
       "  <tbody>\n",
       "    <tr>\n",
       "      <th>0</th>\n",
       "      <td>353779</td>\n",
       "    </tr>\n",
       "  </tbody>\n",
       "</table>\n",
       "</div>"
      ],
      "text/plain": [
       "   Number of Nodes in Dataset\n",
       "0                      353779"
      ]
     },
     "execution_count": 7,
     "metadata": {},
     "output_type": "execute_result"
    }
   ],
   "source": [
    "return_sql_query_as_dataframe('select count(*) as \"Number of Nodes in Dataset\" from nodes;')"
   ]
  },
  {
   "cell_type": "markdown",
   "metadata": {},
   "source": [
    "#### Number of Ways in Dataset"
   ]
  },
  {
   "cell_type": "code",
   "execution_count": 8,
   "metadata": {},
   "outputs": [
    {
     "data": {
      "text/html": [
       "<div>\n",
       "<style scoped>\n",
       "    .dataframe tbody tr th:only-of-type {\n",
       "        vertical-align: middle;\n",
       "    }\n",
       "\n",
       "    .dataframe tbody tr th {\n",
       "        vertical-align: top;\n",
       "    }\n",
       "\n",
       "    .dataframe thead th {\n",
       "        text-align: right;\n",
       "    }\n",
       "</style>\n",
       "<table border=\"1\" class=\"dataframe\">\n",
       "  <thead>\n",
       "    <tr style=\"text-align: right;\">\n",
       "      <th></th>\n",
       "      <th>Number of Ways in Dataset</th>\n",
       "    </tr>\n",
       "  </thead>\n",
       "  <tbody>\n",
       "    <tr>\n",
       "      <th>0</th>\n",
       "      <td>35264</td>\n",
       "    </tr>\n",
       "  </tbody>\n",
       "</table>\n",
       "</div>"
      ],
      "text/plain": [
       "   Number of Ways in Dataset\n",
       "0                      35264"
      ]
     },
     "execution_count": 8,
     "metadata": {},
     "output_type": "execute_result"
    }
   ],
   "source": [
    "return_sql_query_as_dataframe('select count(*) as \"Number of Ways in Dataset\" from ways;')"
   ]
  },
  {
   "cell_type": "markdown",
   "metadata": {},
   "source": [
    "#### Retrieve Number of Chosen Type of Node (Power Towers)"
   ]
  },
  {
   "cell_type": "markdown",
   "metadata": {},
   "source": [
    "Look at sample head of DataFrame returned containing power towers"
   ]
  },
  {
   "cell_type": "code",
   "execution_count": 9,
   "metadata": {},
   "outputs": [
    {
     "data": {
      "text/html": [
       "<div>\n",
       "<style scoped>\n",
       "    .dataframe tbody tr th:only-of-type {\n",
       "        vertical-align: middle;\n",
       "    }\n",
       "\n",
       "    .dataframe tbody tr th {\n",
       "        vertical-align: top;\n",
       "    }\n",
       "\n",
       "    .dataframe thead th {\n",
       "        text-align: right;\n",
       "    }\n",
       "</style>\n",
       "<table border=\"1\" class=\"dataframe\">\n",
       "  <thead>\n",
       "    <tr style=\"text-align: right;\">\n",
       "      <th></th>\n",
       "      <th>id</th>\n",
       "      <th>lat</th>\n",
       "      <th>lon</th>\n",
       "      <th>user</th>\n",
       "      <th>uid</th>\n",
       "      <th>version</th>\n",
       "      <th>changeset</th>\n",
       "      <th>timestamp</th>\n",
       "      <th>id</th>\n",
       "      <th>key</th>\n",
       "      <th>value</th>\n",
       "      <th>type</th>\n",
       "    </tr>\n",
       "  </thead>\n",
       "  <tbody>\n",
       "    <tr>\n",
       "      <th>0</th>\n",
       "      <td>54315452</td>\n",
       "      <td>35.311169</td>\n",
       "      <td>-116.247819</td>\n",
       "      <td>Chris Bell in California</td>\n",
       "      <td>194231</td>\n",
       "      <td>4</td>\n",
       "      <td>5929701</td>\n",
       "      <td>2010-10-01T17:14:39Z</td>\n",
       "      <td>54315452</td>\n",
       "      <td>power</td>\n",
       "      <td>tower</td>\n",
       "      <td>tag</td>\n",
       "    </tr>\n",
       "    <tr>\n",
       "      <th>1</th>\n",
       "      <td>54315453</td>\n",
       "      <td>35.331677</td>\n",
       "      <td>-116.226027</td>\n",
       "      <td>Chris Bell in California</td>\n",
       "      <td>194231</td>\n",
       "      <td>3</td>\n",
       "      <td>5929701</td>\n",
       "      <td>2010-10-01T17:14:53Z</td>\n",
       "      <td>54315453</td>\n",
       "      <td>power</td>\n",
       "      <td>tower</td>\n",
       "      <td>tag</td>\n",
       "    </tr>\n",
       "    <tr>\n",
       "      <th>2</th>\n",
       "      <td>54315455</td>\n",
       "      <td>35.359924</td>\n",
       "      <td>-116.178285</td>\n",
       "      <td>Chris Bell in California</td>\n",
       "      <td>194231</td>\n",
       "      <td>3</td>\n",
       "      <td>5929701</td>\n",
       "      <td>2010-10-01T17:14:35Z</td>\n",
       "      <td>54315455</td>\n",
       "      <td>power</td>\n",
       "      <td>tower</td>\n",
       "      <td>tag</td>\n",
       "    </tr>\n",
       "    <tr>\n",
       "      <th>3</th>\n",
       "      <td>54315457</td>\n",
       "      <td>35.362457</td>\n",
       "      <td>-116.173913</td>\n",
       "      <td>Chris Bell in California</td>\n",
       "      <td>194231</td>\n",
       "      <td>3</td>\n",
       "      <td>5929701</td>\n",
       "      <td>2010-10-01T17:13:35Z</td>\n",
       "      <td>54315457</td>\n",
       "      <td>power</td>\n",
       "      <td>tower</td>\n",
       "      <td>tag</td>\n",
       "    </tr>\n",
       "    <tr>\n",
       "      <th>4</th>\n",
       "      <td>54315458</td>\n",
       "      <td>35.364977</td>\n",
       "      <td>-116.169689</td>\n",
       "      <td>Chris Bell in California</td>\n",
       "      <td>194231</td>\n",
       "      <td>3</td>\n",
       "      <td>5929701</td>\n",
       "      <td>2010-10-01T17:14:52Z</td>\n",
       "      <td>54315458</td>\n",
       "      <td>power</td>\n",
       "      <td>tower</td>\n",
       "      <td>tag</td>\n",
       "    </tr>\n",
       "  </tbody>\n",
       "</table>\n",
       "</div>"
      ],
      "text/plain": [
       "         id        lat         lon                      user     uid  version  \\\n",
       "0  54315452  35.311169 -116.247819  Chris Bell in California  194231        4   \n",
       "1  54315453  35.331677 -116.226027  Chris Bell in California  194231        3   \n",
       "2  54315455  35.359924 -116.178285  Chris Bell in California  194231        3   \n",
       "3  54315457  35.362457 -116.173913  Chris Bell in California  194231        3   \n",
       "4  54315458  35.364977 -116.169689  Chris Bell in California  194231        3   \n",
       "\n",
       "   changeset             timestamp        id    key  value type  \n",
       "0    5929701  2010-10-01T17:14:39Z  54315452  power  tower  tag  \n",
       "1    5929701  2010-10-01T17:14:53Z  54315453  power  tower  tag  \n",
       "2    5929701  2010-10-01T17:14:35Z  54315455  power  tower  tag  \n",
       "3    5929701  2010-10-01T17:13:35Z  54315457  power  tower  tag  \n",
       "4    5929701  2010-10-01T17:14:52Z  54315458  power  tower  tag  "
      ]
     },
     "execution_count": 9,
     "metadata": {},
     "output_type": "execute_result"
    }
   ],
   "source": [
    "query = '''select * from nodes n\n",
    "inner join nodes_tags nt on nt.id = n.id\n",
    "where nt.key = 'power'\n",
    "limit 10000;'''\n",
    "return_sql_query_as_dataframe(query).head()"
   ]
  },
  {
   "cell_type": "markdown",
   "metadata": {},
   "source": [
    "Now count the number of power towers in Nodes dataset"
   ]
  },
  {
   "cell_type": "code",
   "execution_count": 10,
   "metadata": {},
   "outputs": [
    {
     "data": {
      "text/html": [
       "<div>\n",
       "<style scoped>\n",
       "    .dataframe tbody tr th:only-of-type {\n",
       "        vertical-align: middle;\n",
       "    }\n",
       "\n",
       "    .dataframe tbody tr th {\n",
       "        vertical-align: top;\n",
       "    }\n",
       "\n",
       "    .dataframe thead th {\n",
       "        text-align: right;\n",
       "    }\n",
       "</style>\n",
       "<table border=\"1\" class=\"dataframe\">\n",
       "  <thead>\n",
       "    <tr style=\"text-align: right;\">\n",
       "      <th></th>\n",
       "      <th>Number of Power Towers</th>\n",
       "    </tr>\n",
       "  </thead>\n",
       "  <tbody>\n",
       "    <tr>\n",
       "      <th>0</th>\n",
       "      <td>3675</td>\n",
       "    </tr>\n",
       "  </tbody>\n",
       "</table>\n",
       "</div>"
      ],
      "text/plain": [
       "   Number of Power Towers\n",
       "0                    3675"
      ]
     },
     "execution_count": 10,
     "metadata": {},
     "output_type": "execute_result"
    }
   ],
   "source": [
    "query = '''select count(*) as 'Number of Power Towers' from nodes n\n",
    "inner join nodes_tags nt on nt.id = n.id\n",
    "where nt.key = 'power'\n",
    "limit 10000;'''\n",
    "return_sql_query_as_dataframe(query).head()"
   ]
  },
  {
   "cell_type": "markdown",
   "metadata": {},
   "source": [
    "---\n",
    "<a name='#improvements'></a>\n",
    "### Improvements/Suggestions for Dataset"
   ]
  },
  {
   "cell_type": "markdown",
   "metadata": {},
   "source": [
    "#### Problem: Lack of a large amount of useful information for Henderson citizens\n",
    "Henderson is home to several restaurants and fun places to eat. However, this dataset does not contain a tremendous amount of data for restauraunts. As mentioned in the challenges faced with the dataset, the types of users entering data into OSM are likely doing so for a purpose (professional/projects/etc.). "
   ]
  },
  {
   "cell_type": "code",
   "execution_count": 19,
   "metadata": {},
   "outputs": [
    {
     "data": {
      "text/html": [
       "<div>\n",
       "<style scoped>\n",
       "    .dataframe tbody tr th:only-of-type {\n",
       "        vertical-align: middle;\n",
       "    }\n",
       "\n",
       "    .dataframe tbody tr th {\n",
       "        vertical-align: top;\n",
       "    }\n",
       "\n",
       "    .dataframe thead th {\n",
       "        text-align: right;\n",
       "    }\n",
       "</style>\n",
       "<table border=\"1\" class=\"dataframe\">\n",
       "  <thead>\n",
       "    <tr style=\"text-align: right;\">\n",
       "      <th></th>\n",
       "      <th>Type of Food</th>\n",
       "      <th>Number in Dataset</th>\n",
       "    </tr>\n",
       "  </thead>\n",
       "  <tbody>\n",
       "    <tr>\n",
       "      <th>0</th>\n",
       "      <td>burger</td>\n",
       "      <td>5</td>\n",
       "    </tr>\n",
       "    <tr>\n",
       "      <th>1</th>\n",
       "      <td>sandwich</td>\n",
       "      <td>4</td>\n",
       "    </tr>\n",
       "    <tr>\n",
       "      <th>2</th>\n",
       "      <td>american</td>\n",
       "      <td>2</td>\n",
       "    </tr>\n",
       "    <tr>\n",
       "      <th>3</th>\n",
       "      <td>coffee_shop</td>\n",
       "      <td>2</td>\n",
       "    </tr>\n",
       "    <tr>\n",
       "      <th>4</th>\n",
       "      <td>juice</td>\n",
       "      <td>2</td>\n",
       "    </tr>\n",
       "    <tr>\n",
       "      <th>5</th>\n",
       "      <td>pizza</td>\n",
       "      <td>2</td>\n",
       "    </tr>\n",
       "    <tr>\n",
       "      <th>6</th>\n",
       "      <td>Hawaiian</td>\n",
       "      <td>1</td>\n",
       "    </tr>\n",
       "    <tr>\n",
       "      <th>7</th>\n",
       "      <td>chinese</td>\n",
       "      <td>1</td>\n",
       "    </tr>\n",
       "    <tr>\n",
       "      <th>8</th>\n",
       "      <td>ice_cream</td>\n",
       "      <td>1</td>\n",
       "    </tr>\n",
       "    <tr>\n",
       "      <th>9</th>\n",
       "      <td>international;donut;breakfast;tea;coffee_shop</td>\n",
       "      <td>1</td>\n",
       "    </tr>\n",
       "    <tr>\n",
       "      <th>10</th>\n",
       "      <td>italian;pizza</td>\n",
       "      <td>1</td>\n",
       "    </tr>\n",
       "    <tr>\n",
       "      <th>11</th>\n",
       "      <td>mexican</td>\n",
       "      <td>1</td>\n",
       "    </tr>\n",
       "    <tr>\n",
       "      <th>12</th>\n",
       "      <td>thai</td>\n",
       "      <td>1</td>\n",
       "    </tr>\n",
       "    <tr>\n",
       "      <th>13</th>\n",
       "      <td>wings</td>\n",
       "      <td>1</td>\n",
       "    </tr>\n",
       "  </tbody>\n",
       "</table>\n",
       "</div>"
      ],
      "text/plain": [
       "                                     Type of Food  Number in Dataset\n",
       "0                                          burger                  5\n",
       "1                                        sandwich                  4\n",
       "2                                        american                  2\n",
       "3                                     coffee_shop                  2\n",
       "4                                           juice                  2\n",
       "5                                           pizza                  2\n",
       "6                                        Hawaiian                  1\n",
       "7                                         chinese                  1\n",
       "8                                       ice_cream                  1\n",
       "9   international;donut;breakfast;tea;coffee_shop                  1\n",
       "10                                  italian;pizza                  1\n",
       "11                                        mexican                  1\n",
       "12                                           thai                  1\n",
       "13                                          wings                  1"
      ]
     },
     "execution_count": 19,
     "metadata": {},
     "output_type": "execute_result"
    }
   ],
   "source": [
    "query = '''SELECT value as 'Type of Food', count(*) as 'Number in Dataset' \n",
    "FROM nodes_tags WHERE key='cuisine' group by value order by count(*) desc;'''\n",
    "return_sql_query_as_dataframe(query)"
   ]
  },
  {
   "cell_type": "markdown",
   "metadata": {},
   "source": [
    "#### Potential Solution: Leverage Yelp API\n",
    "The Yelp API already exists and has far more data pertaining to Henderson restaurants than what is available in OSM. A series of scripts could be incorporated to search within a target region against the Yelp API. Once the addresses are returning (assuming the Yelp API does not provide Lat/Long data), the Google Geocoding Service API could be implemented to obtain Lat/Long/other Geodata."
   ]
  },
  {
   "cell_type": "markdown",
   "metadata": {},
   "source": [
    "#### Problem: Lack of variety in users editing the dataset"
   ]
  },
  {
   "cell_type": "code",
   "execution_count": 26,
   "metadata": {},
   "outputs": [
    {
     "data": {
      "text/html": [
       "<div>\n",
       "<style scoped>\n",
       "    .dataframe tbody tr th:only-of-type {\n",
       "        vertical-align: middle;\n",
       "    }\n",
       "\n",
       "    .dataframe tbody tr th {\n",
       "        vertical-align: top;\n",
       "    }\n",
       "\n",
       "    .dataframe thead th {\n",
       "        text-align: right;\n",
       "    }\n",
       "</style>\n",
       "<table border=\"1\" class=\"dataframe\">\n",
       "  <thead>\n",
       "    <tr style=\"text-align: right;\">\n",
       "      <th></th>\n",
       "      <th>count(*)</th>\n",
       "    </tr>\n",
       "  </thead>\n",
       "  <tbody>\n",
       "    <tr>\n",
       "      <th>0</th>\n",
       "      <td>353779</td>\n",
       "    </tr>\n",
       "  </tbody>\n",
       "</table>\n",
       "</div>"
      ],
      "text/plain": [
       "   count(*)\n",
       "0    353779"
      ]
     },
     "execution_count": 26,
     "metadata": {},
     "output_type": "execute_result"
    }
   ],
   "source": [
    "query = '''SELECT count(*) from nodes;'''\n",
    "return_sql_query_as_dataframe(query)"
   ]
  },
  {
   "cell_type": "markdown",
   "metadata": {},
   "source": [
    "There is not a lot of variety in the dataset. This is because there is not a lot of variety in the users. To demonstrate this, all users and their contributions to the dataset as a percentage of the total dataset are shown below."
   ]
  },
  {
   "cell_type": "code",
   "execution_count": 34,
   "metadata": {},
   "outputs": [
    {
     "data": {
      "text/html": [
       "<div>\n",
       "<style scoped>\n",
       "    .dataframe tbody tr th:only-of-type {\n",
       "        vertical-align: middle;\n",
       "    }\n",
       "\n",
       "    .dataframe tbody tr th {\n",
       "        vertical-align: top;\n",
       "    }\n",
       "\n",
       "    .dataframe thead th {\n",
       "        text-align: right;\n",
       "    }\n",
       "</style>\n",
       "<table border=\"1\" class=\"dataframe\">\n",
       "  <thead>\n",
       "    <tr style=\"text-align: right;\">\n",
       "      <th></th>\n",
       "      <th>user</th>\n",
       "      <th>count(user)</th>\n",
       "      <th>Percent of Data Created</th>\n",
       "    </tr>\n",
       "  </thead>\n",
       "  <tbody>\n",
       "    <tr>\n",
       "      <th>0</th>\n",
       "      <td>alimamo</td>\n",
       "      <td>134304</td>\n",
       "      <td>37.96</td>\n",
       "    </tr>\n",
       "    <tr>\n",
       "      <th>1</th>\n",
       "      <td>Stephen Show</td>\n",
       "      <td>102666</td>\n",
       "      <td>29.02</td>\n",
       "    </tr>\n",
       "    <tr>\n",
       "      <th>2</th>\n",
       "      <td>Jwheels9876</td>\n",
       "      <td>16477</td>\n",
       "      <td>4.66</td>\n",
       "    </tr>\n",
       "    <tr>\n",
       "      <th>3</th>\n",
       "      <td>Tom_Holland</td>\n",
       "      <td>7493</td>\n",
       "      <td>2.12</td>\n",
       "    </tr>\n",
       "    <tr>\n",
       "      <th>4</th>\n",
       "      <td>CueVii</td>\n",
       "      <td>7458</td>\n",
       "      <td>2.11</td>\n",
       "    </tr>\n",
       "    <tr>\n",
       "      <th>5</th>\n",
       "      <td>woodpeck_fixbot</td>\n",
       "      <td>6911</td>\n",
       "      <td>1.95</td>\n",
       "    </tr>\n",
       "    <tr>\n",
       "      <th>6</th>\n",
       "      <td>TheDutchMan13</td>\n",
       "      <td>5775</td>\n",
       "      <td>1.63</td>\n",
       "    </tr>\n",
       "    <tr>\n",
       "      <th>7</th>\n",
       "      <td>knutella</td>\n",
       "      <td>5010</td>\n",
       "      <td>1.42</td>\n",
       "    </tr>\n",
       "    <tr>\n",
       "      <th>8</th>\n",
       "      <td>Victoria1901</td>\n",
       "      <td>5005</td>\n",
       "      <td>1.41</td>\n",
       "    </tr>\n",
       "    <tr>\n",
       "      <th>9</th>\n",
       "      <td>Seandebasti</td>\n",
       "      <td>4493</td>\n",
       "      <td>1.27</td>\n",
       "    </tr>\n",
       "    <tr>\n",
       "      <th>10</th>\n",
       "      <td>ukrainian_falcon</td>\n",
       "      <td>4121</td>\n",
       "      <td>1.16</td>\n",
       "    </tr>\n",
       "  </tbody>\n",
       "</table>\n",
       "</div>"
      ],
      "text/plain": [
       "                user  count(user)  Percent of Data Created\n",
       "0            alimamo       134304                    37.96\n",
       "1       Stephen Show       102666                    29.02\n",
       "2        Jwheels9876        16477                     4.66\n",
       "3        Tom_Holland         7493                     2.12\n",
       "4             CueVii         7458                     2.11\n",
       "5    woodpeck_fixbot         6911                     1.95\n",
       "6      TheDutchMan13         5775                     1.63\n",
       "7           knutella         5010                     1.42\n",
       "8       Victoria1901         5005                     1.41\n",
       "9        Seandebasti         4493                     1.27\n",
       "10  ukrainian_falcon         4121                     1.16"
      ]
     },
     "execution_count": 34,
     "metadata": {},
     "output_type": "execute_result"
    }
   ],
   "source": [
    "query = '''SELECT user, count(user), ROUND(CAST(count(user) as float)/CAST(353779 as float)*100,2) as \"Percent of Data Created\" \n",
    "from nodes group by user having ROUND(CAST(count(user) as float)/CAST(353779 as float)*100,2) > 1 order by count(user) desc;'''\n",
    "user_df = return_sql_query_as_dataframe(query)\n",
    "user_df"
   ]
  },
  {
   "cell_type": "code",
   "execution_count": 35,
   "metadata": {},
   "outputs": [
    {
     "data": {
      "text/plain": [
       "84.71"
      ]
     },
     "execution_count": 35,
     "metadata": {},
     "output_type": "execute_result"
    }
   ],
   "source": [
    "user_df['Percent of Data Created'].sum()"
   ]
  },
  {
   "cell_type": "markdown",
   "metadata": {},
   "source": [
    "As seen above, 11 users are responsible for over 84% of the data in Henderson. There are over 350,000 records in the dataset. This is an astounding rate. One user (alimamo) has over 38% of the data alone."
   ]
  },
  {
   "cell_type": "markdown",
   "metadata": {},
   "source": [
    "#### Potential Solution: User/Citizen Education"
   ]
  },
  {
   "cell_type": "markdown",
   "metadata": {},
   "source": [
    "Because the vast majority of Henderson citizens are not aware of OSM, the pool of citizens that have the knowledge and ability to update/enter data is very small. Perhaps as a community service a monthly class could be held at local libraries to teach citizens how to correctly enter data and what kind of data would be useful/interesting to users of OSM. This could also create interest in the GIS field for students/citizens entering the career field!"
   ]
  }
 ],
 "metadata": {
  "kernelspec": {
   "display_name": "Python 3",
   "language": "python",
   "name": "python3"
  },
  "language_info": {
   "codemirror_mode": {
    "name": "ipython",
    "version": 3
   },
   "file_extension": ".py",
   "mimetype": "text/x-python",
   "name": "python",
   "nbconvert_exporter": "python",
   "pygments_lexer": "ipython3",
   "version": "3.7.1"
  }
 },
 "nbformat": 4,
 "nbformat_minor": 2
}
