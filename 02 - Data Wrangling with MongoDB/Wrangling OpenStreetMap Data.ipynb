{
 "cells": [
  {
   "cell_type": "code",
   "execution_count": 7,
   "metadata": {},
   "outputs": [],
   "source": [
    "import sqlite3 as sq\n",
    "import os\n",
    "import pandas as pd"
   ]
  },
  {
   "cell_type": "code",
   "execution_count": 8,
   "metadata": {},
   "outputs": [],
   "source": [
    "#Home\n",
    "#filepath = r'S:\\Code\\School\\WGU_DataAnalyst_NanoDegree\\02 - Data Wrangling with MongoDB'\n",
    "\n",
    "#Work\n",
    "filepath = r'C:\\Users\\p15144f\\Desktop\\WGU_DataAnalyst_NanoDegree\\02 - Data Wrangling with MongoDB'"
   ]
  },
  {
   "cell_type": "code",
   "execution_count": 9,
   "metadata": {},
   "outputs": [],
   "source": [
    "def return_sql_query_as_dataframe(sql_query):\n",
    "    connection = sq.connect(os.path.join(filepath, 'MapData.db'))\n",
    "\n",
    "    cursor = connection.cursor()\n",
    "\n",
    "    query = sql_query\n",
    "    cursor.execute(query)\n",
    "\n",
    "    result = cursor.fetchall()\n",
    "    names = [description[0] for description in cursor.description]\n",
    "    \n",
    "    return(pd.DataFrame(result, columns=names))"
   ]
  },
  {
   "cell_type": "code",
   "execution_count": 11,
   "metadata": {},
   "outputs": [
    {
     "data": {
      "text/html": [
       "<div>\n",
       "<style scoped>\n",
       "    .dataframe tbody tr th:only-of-type {\n",
       "        vertical-align: middle;\n",
       "    }\n",
       "\n",
       "    .dataframe tbody tr th {\n",
       "        vertical-align: top;\n",
       "    }\n",
       "\n",
       "    .dataframe thead th {\n",
       "        text-align: right;\n",
       "    }\n",
       "</style>\n",
       "<table border=\"1\" class=\"dataframe\">\n",
       "  <thead>\n",
       "    <tr style=\"text-align: right;\">\n",
       "      <th></th>\n",
       "      <th>id</th>\n",
       "      <th>lat</th>\n",
       "      <th>lon</th>\n",
       "      <th>user</th>\n",
       "      <th>uid</th>\n",
       "      <th>version</th>\n",
       "      <th>changeset</th>\n",
       "      <th>timestamp</th>\n",
       "    </tr>\n",
       "  </thead>\n",
       "  <tbody>\n",
       "    <tr>\n",
       "      <th>0</th>\n",
       "      <td>54315452</td>\n",
       "      <td>35.311169</td>\n",
       "      <td>-116.247819</td>\n",
       "      <td>Chris Bell in California</td>\n",
       "      <td>194231</td>\n",
       "      <td>4</td>\n",
       "      <td>5929701</td>\n",
       "      <td>2010-10-01T17:14:39Z</td>\n",
       "    </tr>\n",
       "    <tr>\n",
       "      <th>1</th>\n",
       "      <td>54315453</td>\n",
       "      <td>35.331677</td>\n",
       "      <td>-116.226027</td>\n",
       "      <td>Chris Bell in California</td>\n",
       "      <td>194231</td>\n",
       "      <td>3</td>\n",
       "      <td>5929701</td>\n",
       "      <td>2010-10-01T17:14:53Z</td>\n",
       "    </tr>\n",
       "    <tr>\n",
       "      <th>2</th>\n",
       "      <td>54315455</td>\n",
       "      <td>35.359924</td>\n",
       "      <td>-116.178285</td>\n",
       "      <td>Chris Bell in California</td>\n",
       "      <td>194231</td>\n",
       "      <td>3</td>\n",
       "      <td>5929701</td>\n",
       "      <td>2010-10-01T17:14:35Z</td>\n",
       "    </tr>\n",
       "    <tr>\n",
       "      <th>3</th>\n",
       "      <td>54315457</td>\n",
       "      <td>35.362457</td>\n",
       "      <td>-116.173913</td>\n",
       "      <td>Chris Bell in California</td>\n",
       "      <td>194231</td>\n",
       "      <td>3</td>\n",
       "      <td>5929701</td>\n",
       "      <td>2010-10-01T17:13:35Z</td>\n",
       "    </tr>\n",
       "    <tr>\n",
       "      <th>4</th>\n",
       "      <td>54315458</td>\n",
       "      <td>35.364977</td>\n",
       "      <td>-116.169689</td>\n",
       "      <td>Chris Bell in California</td>\n",
       "      <td>194231</td>\n",
       "      <td>3</td>\n",
       "      <td>5929701</td>\n",
       "      <td>2010-10-01T17:14:52Z</td>\n",
       "    </tr>\n",
       "  </tbody>\n",
       "</table>\n",
       "</div>"
      ],
      "text/plain": [
       "         id        lat         lon                      user     uid  version  \\\n",
       "0  54315452  35.311169 -116.247819  Chris Bell in California  194231        4   \n",
       "1  54315453  35.331677 -116.226027  Chris Bell in California  194231        3   \n",
       "2  54315455  35.359924 -116.178285  Chris Bell in California  194231        3   \n",
       "3  54315457  35.362457 -116.173913  Chris Bell in California  194231        3   \n",
       "4  54315458  35.364977 -116.169689  Chris Bell in California  194231        3   \n",
       "\n",
       "   changeset             timestamp  \n",
       "0    5929701  2010-10-01T17:14:39Z  \n",
       "1    5929701  2010-10-01T17:14:53Z  \n",
       "2    5929701  2010-10-01T17:14:35Z  \n",
       "3    5929701  2010-10-01T17:13:35Z  \n",
       "4    5929701  2010-10-01T17:14:52Z  "
      ]
     },
     "execution_count": 11,
     "metadata": {},
     "output_type": "execute_result"
    }
   ],
   "source": [
    "return_sql_query_as_dataframe('select * from nodes limit 500').head()"
   ]
  }
 ],
 "metadata": {
  "kernelspec": {
   "display_name": "Python 3",
   "language": "python",
   "name": "python3"
  },
  "language_info": {
   "codemirror_mode": {
    "name": "ipython",
    "version": 3
   },
   "file_extension": ".py",
   "mimetype": "text/x-python",
   "name": "python",
   "nbconvert_exporter": "python",
   "pygments_lexer": "ipython3",
   "version": "3.7.3"
  }
 },
 "nbformat": 4,
 "nbformat_minor": 2
}
