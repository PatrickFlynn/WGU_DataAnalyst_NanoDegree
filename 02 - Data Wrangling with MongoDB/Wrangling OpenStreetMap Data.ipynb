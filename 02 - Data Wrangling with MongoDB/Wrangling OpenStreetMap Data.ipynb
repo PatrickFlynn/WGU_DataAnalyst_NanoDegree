{
 "cells": [
  {
   "cell_type": "markdown",
   "metadata": {},
   "source": [
    "# Wrangling Open Street Map Data\n",
    "---\n",
    "[Introduction](#intro)\n",
    "\n",
    "[Challenges Encountered](#challenge)\n",
    "\n",
    "[Data Processing/Auditing/Cleaning](#dataClean)\n",
    "\n",
    "[Dataset Statistics and Items of Interest](#datastats)\n",
    "\n",
    "[Improvements/Suggestions](#improvements)\n",
    "\n",
    "---"
   ]
  },
  {
   "cell_type": "markdown",
   "metadata": {},
   "source": [
    "### Introduction<a name='#intro'></a>\n",
    "\n",
    "#### Map Area - Henderson, Nevada, United States\n",
    "![Henderson,NV](Map_Image.png)\n"
   ]
  },
  {
   "cell_type": "markdown",
   "metadata": {},
   "source": [
    "### Challenges Encountered <a name=\"#challenge\"></a>\n",
    "Intro\n",
    "\n",
    "- Test\n",
    "- Test\n",
    "- Test"
   ]
  },
  {
   "cell_type": "markdown",
   "metadata": {},
   "source": [
    "### Data Processing/Auditing/Cleaning <a name='#dataclean'></a>\n",
    "intro\n",
    "- test\n",
    "- test\n",
    "- test"
   ]
  },
  {
   "cell_type": "markdown",
   "metadata": {},
   "source": [
    "### Dataset Statistics/Items of Interest <a name='#datastats'></a>"
   ]
  },
  {
   "cell_type": "markdown",
   "metadata": {},
   "source": [
    "#### Function to Retrieve Custom SQL Queries and Output as DataFrame Object\n",
    "This function allows analyst to easily write custom SQL queries and send them directly to our SQLite server. Once retrieved, records are output/displayed as a Pandas DataFrame for easy maniupulation/plotting/and displaying in Jupyter Environment."
   ]
  },
  {
   "cell_type": "code",
   "execution_count": 1,
   "metadata": {},
   "outputs": [],
   "source": [
    "import sqlite3 as sq\n",
    "import os\n",
    "import pandas as pd\n",
    "import re\n",
    "#Home\n",
    "#filepath = r'S:\\Code\\School\\WGU_DataAnalyst_NanoDegree\\02 - Data Wrangling with MongoDB'\n",
    "\n",
    "#Work\n",
    "filepath = r'C:\\Users\\p15144f\\Desktop\\WGU_DataAnalyst_NanoDegree\\02 - Data Wrangling with MongoDB'"
   ]
  },
  {
   "cell_type": "markdown",
   "metadata": {},
   "source": [
    "Function:"
   ]
  },
  {
   "cell_type": "code",
   "execution_count": 2,
   "metadata": {},
   "outputs": [],
   "source": [
    "def return_sql_query_as_dataframe(sql_query):\n",
    "    #Connect to SQL DB\n",
    "    connection = sq.connect(os.path.join(filepath, 'MapData.db'))\n",
    "    cursor = connection.cursor()\n",
    "    \n",
    "    #Send user query to Cursor\n",
    "    query = sql_query\n",
    "    cursor.execute(query)\n",
    "    \n",
    "    #Fetch results and return a Pandas DF\n",
    "    result = cursor.fetchall()\n",
    "    names = [description[0] for description in cursor.description]\n",
    "    return(pd.DataFrame(result, columns=names))"
   ]
  },
  {
   "cell_type": "markdown",
   "metadata": {},
   "source": [
    "#### Files and File Sizes\n",
    "List files sizes for .OSM XML files and output .CSV files"
   ]
  },
  {
   "cell_type": "code",
   "execution_count": 3,
   "metadata": {},
   "outputs": [
    {
     "name": "stdout",
     "output_type": "stream",
     "text": [
      "Cleaned_Henderson.osm -- 76697.4KB\n",
      "henderson.osm -- 74871.6KB\n",
      "nodes.csv -- 31376.1KB\n",
      "nodes_tags.csv -- 557.8KB\n",
      "ways.csv -- 2313.8KB\n",
      "ways_nodes.csv -- 10428.6KB\n",
      "ways_tags.csv -- 3538.6KB\n"
     ]
    }
   ],
   "source": [
    "for root, dirs, files in os.walk(filepath):  \n",
    "    for fn in files:\n",
    "        if re.search('\\.[csv|.osm]', fn):\n",
    "            path = os.path.join(root, fn)\n",
    "            size = os.stat(path).st_size # in bytes\n",
    "            print(fn,\"--\", \"{}KB\".format(str(round(float(size/1024), 1))))"
   ]
  },
  {
   "cell_type": "markdown",
   "metadata": {},
   "source": [
    "#### Number of Unique Users"
   ]
  },
  {
   "cell_type": "code",
   "execution_count": 4,
   "metadata": {},
   "outputs": [
    {
     "data": {
      "text/html": [
       "<div>\n",
       "<style scoped>\n",
       "    .dataframe tbody tr th:only-of-type {\n",
       "        vertical-align: middle;\n",
       "    }\n",
       "\n",
       "    .dataframe tbody tr th {\n",
       "        vertical-align: top;\n",
       "    }\n",
       "\n",
       "    .dataframe thead th {\n",
       "        text-align: right;\n",
       "    }\n",
       "</style>\n",
       "<table border=\"1\" class=\"dataframe\">\n",
       "  <thead>\n",
       "    <tr style=\"text-align: right;\">\n",
       "      <th></th>\n",
       "      <th>Distinct Users in Both Tables</th>\n",
       "    </tr>\n",
       "  </thead>\n",
       "  <tbody>\n",
       "    <tr>\n",
       "      <th>0</th>\n",
       "      <td>394</td>\n",
       "    </tr>\n",
       "  </tbody>\n",
       "</table>\n",
       "</div>"
      ],
      "text/plain": [
       "   Distinct Users in Both Tables\n",
       "0                            394"
      ]
     },
     "execution_count": 4,
     "metadata": {},
     "output_type": "execute_result"
    }
   ],
   "source": [
    "query = '''select count(distinct b.user) as \"Distinct Users in Both Tables\" \n",
    "from (\n",
    "select user from nodes \n",
    "union \n",
    "select user from ways)b;'''\n",
    "return_sql_query_as_dataframe(query)"
   ]
  },
  {
   "cell_type": "markdown",
   "metadata": {},
   "source": [
    "#### Number of Nodes in Dataset"
   ]
  },
  {
   "cell_type": "code",
   "execution_count": 5,
   "metadata": {},
   "outputs": [
    {
     "data": {
      "text/html": [
       "<div>\n",
       "<style scoped>\n",
       "    .dataframe tbody tr th:only-of-type {\n",
       "        vertical-align: middle;\n",
       "    }\n",
       "\n",
       "    .dataframe tbody tr th {\n",
       "        vertical-align: top;\n",
       "    }\n",
       "\n",
       "    .dataframe thead th {\n",
       "        text-align: right;\n",
       "    }\n",
       "</style>\n",
       "<table border=\"1\" class=\"dataframe\">\n",
       "  <thead>\n",
       "    <tr style=\"text-align: right;\">\n",
       "      <th></th>\n",
       "      <th>Number of Nodes in Dataset</th>\n",
       "    </tr>\n",
       "  </thead>\n",
       "  <tbody>\n",
       "    <tr>\n",
       "      <th>0</th>\n",
       "      <td>353779</td>\n",
       "    </tr>\n",
       "  </tbody>\n",
       "</table>\n",
       "</div>"
      ],
      "text/plain": [
       "   Number of Nodes in Dataset\n",
       "0                      353779"
      ]
     },
     "execution_count": 5,
     "metadata": {},
     "output_type": "execute_result"
    }
   ],
   "source": [
    "return_sql_query_as_dataframe('select count(*) as \"Number of Nodes in Dataset\" from nodes;')"
   ]
  },
  {
   "cell_type": "markdown",
   "metadata": {},
   "source": [
    "#### Number of Ways in Dataset"
   ]
  },
  {
   "cell_type": "code",
   "execution_count": 6,
   "metadata": {},
   "outputs": [
    {
     "data": {
      "text/html": [
       "<div>\n",
       "<style scoped>\n",
       "    .dataframe tbody tr th:only-of-type {\n",
       "        vertical-align: middle;\n",
       "    }\n",
       "\n",
       "    .dataframe tbody tr th {\n",
       "        vertical-align: top;\n",
       "    }\n",
       "\n",
       "    .dataframe thead th {\n",
       "        text-align: right;\n",
       "    }\n",
       "</style>\n",
       "<table border=\"1\" class=\"dataframe\">\n",
       "  <thead>\n",
       "    <tr style=\"text-align: right;\">\n",
       "      <th></th>\n",
       "      <th>Number of Ways in Dataset</th>\n",
       "    </tr>\n",
       "  </thead>\n",
       "  <tbody>\n",
       "    <tr>\n",
       "      <th>0</th>\n",
       "      <td>35264</td>\n",
       "    </tr>\n",
       "  </tbody>\n",
       "</table>\n",
       "</div>"
      ],
      "text/plain": [
       "   Number of Ways in Dataset\n",
       "0                      35264"
      ]
     },
     "execution_count": 6,
     "metadata": {},
     "output_type": "execute_result"
    }
   ],
   "source": [
    "return_sql_query_as_dataframe('select count(*) as \"Number of Ways in Dataset\" from ways;')"
   ]
  },
  {
   "cell_type": "markdown",
   "metadata": {},
   "source": [
    "#### Retrieve Number of Chosen Type of Node (Power Towers)"
   ]
  },
  {
   "cell_type": "markdown",
   "metadata": {},
   "source": [
    "Look at sample head of DataFrame returned containing power towers"
   ]
  },
  {
   "cell_type": "code",
   "execution_count": 17,
   "metadata": {},
   "outputs": [
    {
     "data": {
      "text/html": [
       "<div>\n",
       "<style scoped>\n",
       "    .dataframe tbody tr th:only-of-type {\n",
       "        vertical-align: middle;\n",
       "    }\n",
       "\n",
       "    .dataframe tbody tr th {\n",
       "        vertical-align: top;\n",
       "    }\n",
       "\n",
       "    .dataframe thead th {\n",
       "        text-align: right;\n",
       "    }\n",
       "</style>\n",
       "<table border=\"1\" class=\"dataframe\">\n",
       "  <thead>\n",
       "    <tr style=\"text-align: right;\">\n",
       "      <th></th>\n",
       "      <th>id</th>\n",
       "      <th>lat</th>\n",
       "      <th>lon</th>\n",
       "      <th>user</th>\n",
       "      <th>uid</th>\n",
       "      <th>version</th>\n",
       "      <th>changeset</th>\n",
       "      <th>timestamp</th>\n",
       "      <th>id</th>\n",
       "      <th>key</th>\n",
       "      <th>value</th>\n",
       "      <th>type</th>\n",
       "    </tr>\n",
       "  </thead>\n",
       "  <tbody>\n",
       "    <tr>\n",
       "      <th>0</th>\n",
       "      <td>54315452</td>\n",
       "      <td>35.311169</td>\n",
       "      <td>-116.247819</td>\n",
       "      <td>Chris Bell in California</td>\n",
       "      <td>194231</td>\n",
       "      <td>4</td>\n",
       "      <td>5929701</td>\n",
       "      <td>2010-10-01T17:14:39Z</td>\n",
       "      <td>54315452</td>\n",
       "      <td>power</td>\n",
       "      <td>tower</td>\n",
       "      <td>tag</td>\n",
       "    </tr>\n",
       "    <tr>\n",
       "      <th>1</th>\n",
       "      <td>54315453</td>\n",
       "      <td>35.331677</td>\n",
       "      <td>-116.226027</td>\n",
       "      <td>Chris Bell in California</td>\n",
       "      <td>194231</td>\n",
       "      <td>3</td>\n",
       "      <td>5929701</td>\n",
       "      <td>2010-10-01T17:14:53Z</td>\n",
       "      <td>54315453</td>\n",
       "      <td>power</td>\n",
       "      <td>tower</td>\n",
       "      <td>tag</td>\n",
       "    </tr>\n",
       "    <tr>\n",
       "      <th>2</th>\n",
       "      <td>54315455</td>\n",
       "      <td>35.359924</td>\n",
       "      <td>-116.178285</td>\n",
       "      <td>Chris Bell in California</td>\n",
       "      <td>194231</td>\n",
       "      <td>3</td>\n",
       "      <td>5929701</td>\n",
       "      <td>2010-10-01T17:14:35Z</td>\n",
       "      <td>54315455</td>\n",
       "      <td>power</td>\n",
       "      <td>tower</td>\n",
       "      <td>tag</td>\n",
       "    </tr>\n",
       "    <tr>\n",
       "      <th>3</th>\n",
       "      <td>54315457</td>\n",
       "      <td>35.362457</td>\n",
       "      <td>-116.173913</td>\n",
       "      <td>Chris Bell in California</td>\n",
       "      <td>194231</td>\n",
       "      <td>3</td>\n",
       "      <td>5929701</td>\n",
       "      <td>2010-10-01T17:13:35Z</td>\n",
       "      <td>54315457</td>\n",
       "      <td>power</td>\n",
       "      <td>tower</td>\n",
       "      <td>tag</td>\n",
       "    </tr>\n",
       "    <tr>\n",
       "      <th>4</th>\n",
       "      <td>54315458</td>\n",
       "      <td>35.364977</td>\n",
       "      <td>-116.169689</td>\n",
       "      <td>Chris Bell in California</td>\n",
       "      <td>194231</td>\n",
       "      <td>3</td>\n",
       "      <td>5929701</td>\n",
       "      <td>2010-10-01T17:14:52Z</td>\n",
       "      <td>54315458</td>\n",
       "      <td>power</td>\n",
       "      <td>tower</td>\n",
       "      <td>tag</td>\n",
       "    </tr>\n",
       "  </tbody>\n",
       "</table>\n",
       "</div>"
      ],
      "text/plain": [
       "         id        lat         lon                      user     uid  version  \\\n",
       "0  54315452  35.311169 -116.247819  Chris Bell in California  194231        4   \n",
       "1  54315453  35.331677 -116.226027  Chris Bell in California  194231        3   \n",
       "2  54315455  35.359924 -116.178285  Chris Bell in California  194231        3   \n",
       "3  54315457  35.362457 -116.173913  Chris Bell in California  194231        3   \n",
       "4  54315458  35.364977 -116.169689  Chris Bell in California  194231        3   \n",
       "\n",
       "   changeset             timestamp        id    key  value type  \n",
       "0    5929701  2010-10-01T17:14:39Z  54315452  power  tower  tag  \n",
       "1    5929701  2010-10-01T17:14:53Z  54315453  power  tower  tag  \n",
       "2    5929701  2010-10-01T17:14:35Z  54315455  power  tower  tag  \n",
       "3    5929701  2010-10-01T17:13:35Z  54315457  power  tower  tag  \n",
       "4    5929701  2010-10-01T17:14:52Z  54315458  power  tower  tag  "
      ]
     },
     "execution_count": 17,
     "metadata": {},
     "output_type": "execute_result"
    }
   ],
   "source": [
    "query = '''select * from nodes n\n",
    "inner join nodes_tags nt on nt.id = n.id\n",
    "where nt.key = 'power'\n",
    "limit 10000;'''\n",
    "return_sql_query_as_dataframe(query).head()"
   ]
  },
  {
   "cell_type": "markdown",
   "metadata": {},
   "source": [
    "Now count the number of power towers in Nodes dataset"
   ]
  },
  {
   "cell_type": "code",
   "execution_count": 14,
   "metadata": {},
   "outputs": [
    {
     "data": {
      "text/html": [
       "<div>\n",
       "<style scoped>\n",
       "    .dataframe tbody tr th:only-of-type {\n",
       "        vertical-align: middle;\n",
       "    }\n",
       "\n",
       "    .dataframe tbody tr th {\n",
       "        vertical-align: top;\n",
       "    }\n",
       "\n",
       "    .dataframe thead th {\n",
       "        text-align: right;\n",
       "    }\n",
       "</style>\n",
       "<table border=\"1\" class=\"dataframe\">\n",
       "  <thead>\n",
       "    <tr style=\"text-align: right;\">\n",
       "      <th></th>\n",
       "      <th>Number of Power Towers</th>\n",
       "    </tr>\n",
       "  </thead>\n",
       "  <tbody>\n",
       "    <tr>\n",
       "      <th>0</th>\n",
       "      <td>3675</td>\n",
       "    </tr>\n",
       "  </tbody>\n",
       "</table>\n",
       "</div>"
      ],
      "text/plain": [
       "   Number of Power Towers\n",
       "0                    3675"
      ]
     },
     "execution_count": 14,
     "metadata": {},
     "output_type": "execute_result"
    }
   ],
   "source": [
    "query = '''select count(*) as 'Number of Power Towers' from nodes n\n",
    "inner join nodes_tags nt on nt.id = n.id\n",
    "where nt.key = 'power'\n",
    "limit 10000;'''\n",
    "return_sql_query_as_dataframe(query).head()"
   ]
  },
  {
   "cell_type": "markdown",
   "metadata": {},
   "source": [
    "<a name='#improvements'></a>\n",
    "### Improvements/Suggestions for Dataset"
   ]
  }
 ],
 "metadata": {
  "kernelspec": {
   "display_name": "Python 3",
   "language": "python",
   "name": "python3"
  },
  "language_info": {
   "codemirror_mode": {
    "name": "ipython",
    "version": 3
   },
   "file_extension": ".py",
   "mimetype": "text/x-python",
   "name": "python",
   "nbconvert_exporter": "python",
   "pygments_lexer": "ipython3",
   "version": "3.7.3"
  }
 },
 "nbformat": 4,
 "nbformat_minor": 2
}
